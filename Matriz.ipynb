{
  "nbformat": 4,
  "nbformat_minor": 0,
  "metadata": {
    "colab": {
      "provenance": [],
      "include_colab_link": true
    },
    "kernelspec": {
      "name": "python3",
      "display_name": "Python 3"
    }
  },
  "cells": [
    {
      "cell_type": "markdown",
      "metadata": {
        "id": "view-in-github",
        "colab_type": "text"
      },
      "source": [
        "<a href=\"https://colab.research.google.com/github/JessicaPelosi/PrimeirasFuncoes_Phyton/blob/main/Matriz.ipynb\" target=\"_parent\"><img src=\"https://colab.research.google.com/assets/colab-badge.svg\" alt=\"Open In Colab\"/></a>"
      ]
    },
    {
      "cell_type": "markdown",
      "metadata": {
        "id": "skN-Wz61xZzi"
      },
      "source": [
        "### 1. Faça um programa que leia uma matriz 2x3 (2 linhas, 3 colunas). Apresente os elementos da matriz e seus respectivos índices."
      ]
    },
    {
      "cell_type": "code",
      "metadata": {
        "id": "Wbjafj_QxWP-",
        "colab": {
          "base_uri": "https://localhost:8080/"
        },
        "outputId": "b064b6e9-47df-4e2a-a331-5bf2981f0363"
      },
      "source": [
        "matriz = [] # ................................................... Lendo a matriz\n",
        "for lin in range(2):\n",
        "    vet_linha = [] #inicializando o vetor/zerando\n",
        "    for col in range(3): \n",
        "        vet_linha.append(int(input('Digite o valor ['+ str(lin) + '][' + str(col) + ']: ')))\n",
        "        #soma = soma + linha[col]\n",
        "    matriz.append(vet_linha)\n",
        "\n",
        "print(matriz)\n",
        "#print da soma dos salários\n",
        "for lin in range(2):  # ...................................Apresentando a matriz\n",
        "    for col in range(3): \n",
        "\t    print(matriz[lin][col], end='\\t') #\\t tabulação\n",
        "    print() #trocar a linha para matriz \n",
        "\n",
        "for lin in range(2): \n",
        "    for col in range(3): \n",
        "\t    print('O valor', matriz[lin][col], 'está armazendado na linha', lin, 'e na coluna',col) \n",
        "    print()"
      ],
      "execution_count": null,
      "outputs": [
        {
          "output_type": "stream",
          "name": "stdout",
          "text": [
            "Digite o valor [0][0]: 7\n",
            "Digite o valor [0][1]: 8\n",
            "Digite o valor [0][2]: 6\n",
            "Digite o valor [1][0]: 5\n",
            "Digite o valor [1][1]: 9\n",
            "Digite o valor [1][2]: 0\n",
            "[[7, 8, 6], [5, 9, 0]]\n",
            "7\t8\t6\t\n",
            "5\t9\t0\t\n",
            "O valor 7 está armazendado na linha 0 e na coluna 0\n",
            "O valor 8 está armazendado na linha 0 e na coluna 1\n",
            "O valor 6 está armazendado na linha 0 e na coluna 2\n",
            "\n",
            "O valor 5 está armazendado na linha 1 e na coluna 0\n",
            "O valor 9 está armazendado na linha 1 e na coluna 1\n",
            "O valor 0 está armazendado na linha 1 e na coluna 2\n",
            "\n"
          ]
        }
      ]
    },
    {
      "cell_type": "markdown",
      "metadata": {
        "id": "0jPoba3-yLnG"
      },
      "source": [
        "### 2. Faça um programa que carregue uma matriz 2 x 2, que representa o salário de 4 funcionários, calcule e mostre a soma total de todos os elementos que será o montante pago pela empresa a esses funcionários."
      ]
    },
    {
      "cell_type": "code",
      "metadata": {
        "id": "UHD2oMlJyLzc",
        "colab": {
          "base_uri": "https://localhost:8080/"
        },
        "outputId": "52cb9d46-de26-4074-c789-de5f7ab7248d"
      },
      "source": [
        "matriz = []\n",
        "for lin in range(2):\n",
        "    vet_linha = []\n",
        "    for col in range(2):\n",
        "        vet_linha.append(float(input('Insira o salário dos funcionários [' + str(lin) + '][' + str(col) + ']:R$ ')))\n",
        "    matriz.append(vet_linha)\n",
        "\n",
        "soma = 0\n",
        "for lin in range(2):  \n",
        "    for col in range(2): \n",
        "\t    soma = soma + matriz[lin][col]   \n",
        "print(\"A soma dos salários é R$\",soma)  "
      ],
      "execution_count": null,
      "outputs": [
        {
          "output_type": "stream",
          "name": "stdout",
          "text": [
            "Insira o salário dos funcionários [0][0]:R$ 1200\n",
            "Insira o salário dos funcionários [0][1]:R$ 1300\n",
            "Insira o salário dos funcionários [1][0]:R$ 1200\n",
            "Insira o salário dos funcionários [1][1]:R$ 144\n",
            "A soma dos salários é R$ 3844.0\n"
          ]
        }
      ]
    },
    {
      "cell_type": "markdown",
      "metadata": {
        "id": "HAz_eYfhzg06"
      },
      "source": [
        "### 3. Faça um programa que carregue uma matriz 3 x 2, que representa preços de produtos, crie OUTRA matriz que armazene todos os preços com 7% de aumento."
      ]
    },
    {
      "cell_type": "code",
      "metadata": {
        "id": "Cg-NIjInzfmU",
        "colab": {
          "base_uri": "https://localhost:8080/"
        },
        "outputId": "a5d7ac55-f786-4081-ed2b-67b445bb8ee8"
      },
      "source": [
        "matriz = []\n",
        "for lin in range(3):\n",
        "    vet_linha = []\n",
        "    for col in range(2):\n",
        "        vet_linha.append(float(input('Insira o preço do produto [' + str(lin) + '][' + str(col) + ']:R$ ')))\n",
        "    matriz.append(vet_linha)\n",
        "    \n",
        "aumento = []\n",
        "for lin in range(3):\n",
        "    vet_linha = []\n",
        "    for col in range(2):\n",
        "        vet_linha.append(matriz[lin][col] + matriz[lin][col] * 7/100)\n",
        "    aumento.append(vet_linha)\n",
        "\n",
        "for lin in range(3):  \n",
        "    for col in range(2):\n",
        "        print(matriz[lin][col], end='\\t') \n",
        "    print()\n",
        "\n",
        "for lin in range(3):  \n",
        "    for col in range(2):\n",
        "        print(aumento[lin][col], end='\\t') \n",
        "    print()"
      ],
      "execution_count": null,
      "outputs": [
        {
          "output_type": "stream",
          "name": "stdout",
          "text": [
            "Insira o preço do produto [0][0]:R$ 10\n",
            "Insira o preço do produto [0][1]:R$ 12\n",
            "Insira o preço do produto [1][0]:R$ 20\n",
            "Insira o preço do produto [1][1]:R$ 10\n",
            "Insira o preço do produto [2][0]:R$ 12\n",
            "Insira o preço do produto [2][1]:R$ 13\n",
            "10.0\t12.0\t\n",
            "20.0\t10.0\t\n",
            "12.0\t13.0\t\n",
            "10.7\t12.84\t\n",
            "21.4\t10.7\t\n",
            "12.84\t13.91\t\n"
          ]
        }
      ]
    },
    {
      "cell_type": "code",
      "source": [
        "#Método resumido dentro da estrutura inicial\n",
        "\n",
        "matriz = []\n",
        "aumento = []\n",
        "for lin in range(3):\n",
        "    vet_linha = []\n",
        "    vet = []\n",
        "    for col in range(2):\n",
        "        vet_linha.append(float(input('Insira o preço do produto [' + str(lin) + '][' + str(col) + ']:R$ ')))\n",
        "        vet.append(vet_linha[col] + vet_linha[col] * 7 / 100)\n",
        "    matriz.append(vet_linha)\n",
        "    aumento.append(vet)\n",
        "print('\\n')\n",
        "\n",
        "for lin in range(3):  \n",
        "    for col in range(2):\n",
        "        print(matriz[lin][col], end='\\t') \n",
        "    print()\n",
        "print('\\n')\n",
        "\n",
        "for lin in range(3):  \n",
        "    for col in range(2):\n",
        "        print(aumento[lin][col], end='\\t') \n",
        "    print()"
      ],
      "metadata": {
        "colab": {
          "base_uri": "https://localhost:8080/"
        },
        "id": "rXeShGa-2pRV",
        "outputId": "c04fd5d8-511a-4375-ac7d-3f764ab5ca03"
      },
      "execution_count": null,
      "outputs": [
        {
          "output_type": "stream",
          "name": "stdout",
          "text": [
            "Insira o preço do produto [0][0]:R$ 10\n",
            "Insira o preço do produto [0][1]:R$ 12\n",
            "Insira o preço do produto [1][0]:R$ 13\n",
            "Insira o preço do produto [1][1]:R$ 11\n",
            "Insira o preço do produto [2][0]:R$ 14\n",
            "Insira o preço do produto [2][1]:R$ 15\n",
            "\n",
            "\n",
            "10.0\t12.0\t\n",
            "13.0\t11.0\t\n",
            "14.0\t15.0\t\n",
            "\n",
            "\n",
            "10.7\t12.84\t\n",
            "13.91\t11.77\t\n",
            "14.98\t16.05\t\n"
          ]
        }
      ]
    },
    {
      "cell_type": "markdown",
      "metadata": {
        "id": "_aPd4c1b3OjS"
      },
      "source": [
        "### 4. Faça um programa para armazenar em uma matriz 5x2 preços. Encontre e apresente os ÍNDICES dos valores menores que 23 reais."
      ]
    },
    {
      "cell_type": "code",
      "metadata": {
        "id": "Q6LPIy_LCQuO",
        "colab": {
          "base_uri": "https://localhost:8080/"
        },
        "outputId": "fb75d41d-7aa7-4cfd-fc9c-2bdc98891db4"
      },
      "source": [
        "# if matriz[lin][col] < 23:\n",
        "      #print(lin)\n",
        "      #print(col)\n",
        "\n",
        "matriz = []\n",
        "for lin in range(5):\n",
        "    vet_linha = []\n",
        "    for col in range(2):\n",
        "        vet_linha.append(float(input('Insira um preço [' + str(lin) + '][' + str(col) + ']:R$ ')))\n",
        "    matriz.append(vet_linha)\n",
        "\n",
        "for lin in range(5):  \n",
        "    for col in range(2):\n",
        "        if matriz[lin][col] < 23:\n",
        "            print('O valor', matriz[lin][col], 'está armazendado na linha', lin, 'e na coluna',col)"
      ],
      "execution_count": null,
      "outputs": [
        {
          "output_type": "stream",
          "name": "stdout",
          "text": [
            "Insira um preço [0][0]:R$ 21\n",
            "Insira um preço [0][1]:R$ 25\n",
            "Insira um preço [1][0]:R$ 10\n",
            "Insira um preço [1][1]:R$ 26\n",
            "Insira um preço [2][0]:R$ 24\n",
            "Insira um preço [2][1]:R$ 20\n",
            "Insira um preço [3][0]:R$ 28\n",
            "Insira um preço [3][1]:R$ 23\n",
            "Insira um preço [4][0]:R$ 21\n",
            "Insira um preço [4][1]:R$ 29\n",
            "O valor 21.0 está armazendado na linha 0 e na coluna 0\n",
            "O valor 10.0 está armazendado na linha 1 e na coluna 0\n",
            "O valor 20.0 está armazendado na linha 2 e na coluna 1\n",
            "O valor 21.0 está armazendado na linha 4 e na coluna 0\n"
          ]
        }
      ]
    },
    {
      "cell_type": "markdown",
      "metadata": {
        "id": "JgYwP3n1CQ_U"
      },
      "source": [
        "### 5. Faça um programa que leia números inteiros m e n e os elementos de uma matriz A de números inteiros de dimensão m x n e conte o número de elementos que são iguais a zero.\n"
      ]
    },
    {
      "cell_type": "code",
      "metadata": {
        "id": "fb6TwQ_yh_To",
        "colab": {
          "base_uri": "https://localhost:8080/"
        },
        "outputId": "2943f24e-fadd-40b6-9836-34f058e3aa59"
      },
      "source": [
        "matriz = []\n",
        "cont = 0\n",
        "m = int(input(\"Insira o número de linhas: \"))\n",
        "n = int(input(\"insira o número de colunas: \"))\n",
        "for lin in range(m):\n",
        "    vet_linha = []\n",
        "    for col in range(n):\n",
        "        vet_linha.append(int(input(\"Digite um número [\"+ str(lin) + \"][\" + str(col) + \"]: \")))\n",
        "    matriz.append(vet_linha)\n",
        "\n",
        "for lin in range(m):\n",
        "    for col in range(n):\n",
        "        if matriz[lin][col] == 0:\n",
        "            cont = cont + 1\n",
        "print(\"O número de elementos que são iguais a zero é: \",cont)"
      ],
      "execution_count": null,
      "outputs": [
        {
          "output_type": "stream",
          "name": "stdout",
          "text": [
            "Insira o número de linhas: 3\n",
            "insira o número de colunas: 2\n",
            "Digite um número [0][0]: 5\n",
            "Digite um número [0][1]: 0\n",
            "Digite um número [1][0]: 6\n",
            "Digite um número [1][1]: 4\n",
            "Digite um número [2][0]: 9\n",
            "Digite um número [2][1]: 0\n",
            "O número de elementos que são iguais a zero é:  2\n"
          ]
        }
      ]
    },
    {
      "cell_type": "markdown",
      "metadata": {
        "id": "fZNXRUrrh_g9"
      },
      "source": [
        "### 6. Faça um programa que carregue: *um vetor com oito posições com os nomes das lojas; * um outro vetor com quatro posições com os nomes dos produtos; * uma matriz (8 x 4) com os preços de todos os produtos em cada loja. O programa deve mostrar todas as relações (nome da loja - nome do produto e preço), nas quais o preço não ultrapasse R$ 120,00.\n"
      ]
    },
    {
      "cell_type": "code",
      "metadata": {
        "id": "A4-CekXy0vrz",
        "colab": {
          "base_uri": "https://localhost:8080/"
        },
        "outputId": "553168e1-ec74-48ac-bfd4-31118ae8466a"
      },
      "source": [
        "matriz = []\n",
        "lojas = []\n",
        "for lin in range(4):\n",
        "    lojas.append(str(input(\"Insira o nome de uma loja: \")))\n",
        "\n",
        "produtos = []\n",
        "for col in range(2):\n",
        "    produtos.append(str(input(\"Insira o nome de um produto: \")))\n",
        "\n",
        "for lin in range(4):\n",
        "    preco = []\n",
        "    for col in range(2):\n",
        "        preco.append(float(input(\"Digite o preço do produto: R$ \")))\n",
        "    matriz.append(preco)\n",
        "\n",
        "for lin in range(4):\n",
        "    for col in range(2):\n",
        "        if matriz[lin][col] <= 120:\n",
        "            print(\"A loja\",lojas[lin],\", com o produto\",produtos[col],\", custa R$\",matriz[lin][col],\".\")"
      ],
      "execution_count": null,
      "outputs": [
        {
          "output_type": "stream",
          "name": "stdout",
          "text": [
            "Insira o nome de uma loja: Americanas\n",
            "Insira o nome de uma loja: Bahia\n",
            "Insira o nome de uma loja: Carrefour\n",
            "Insira o nome de uma loja: São João\n",
            "Insira o nome de um produto: Chave\n",
            "Insira o nome de um produto: Copo\n",
            "Digite o preço do produto: R$ 120\n",
            "Digite o preço do produto: R$ 130\n",
            "Digite o preço do produto: R$ 140\n",
            "Digite o preço do produto: R$ 110\n",
            "Digite o preço do produto: R$ 160\n",
            "Digite o preço do produto: R$ 122\n",
            "Digite o preço do produto: R$ 103\n",
            "Digite o preço do produto: R$ 114\n",
            "A loja Americanas , com o produto Chave , custa R$ 120.0 .\n",
            "A loja Bahia , com o produto Copo , custa R$ 110.0 .\n",
            "A loja São João , com o produto Chave , custa R$ 103.0 .\n",
            "A loja São João , com o produto Copo , custa R$ 114.0 .\n"
          ]
        }
      ]
    }
  ]
}