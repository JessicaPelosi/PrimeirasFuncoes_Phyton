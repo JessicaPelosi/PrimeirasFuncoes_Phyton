{
  "nbformat": 4,
  "nbformat_minor": 0,
  "metadata": {
    "colab": {
      "provenance": [],
      "include_colab_link": true
    },
    "kernelspec": {
      "name": "python3",
      "display_name": "Python 3"
    }
  },
  "cells": [
    {
      "cell_type": "markdown",
      "metadata": {
        "id": "view-in-github",
        "colab_type": "text"
      },
      "source": [
        "<a href=\"https://colab.research.google.com/github/JessicaPelosi/PrimeirasFuncoes_Phyton/blob/main/Entrada_Saida.ipynb\" target=\"_parent\"><img src=\"https://colab.research.google.com/assets/colab-badge.svg\" alt=\"Open In Colab\"/></a>"
      ]
    },
    {
      "cell_type": "markdown",
      "metadata": {
        "id": "5gti273fgVUm"
      },
      "source": [
        "# Exercícios para construir programas com ENTRADA, PROCESSAMENTO e SAÍDA"
      ]
    },
    {
      "cell_type": "markdown",
      "metadata": {
        "id": "OhRjsGO5gXft"
      },
      "source": [
        "### 1. Faça um programa que leia um número, multiplique ele por 2 e apresente o resultado.\n",
        "      LEIA numero\n",
        "      resultado = numero * 2\n",
        "      ESCREVA resultado"
      ]
    },
    {
      "cell_type": "code",
      "metadata": {
        "id": "gl_HmcKjgIgH",
        "colab": {
          "base_uri": "https://localhost:8080/"
        },
        "outputId": "59c570da-fdfd-4450-a9b1-f4f7cbc9d4ca"
      },
      "source": [
        "# 1º passo - identificar a(s) entrada(s) - variável número\n",
        "numero = int(input('Informe um valor: '))\n",
        "# 2º passo - identificar o cálculo/processamento\n",
        "resultado = numero * 2\n",
        "# 3º passo - apresentar a(s) variáveis que foram calculadas\n",
        "print('O resultado é',resultado)"
      ],
      "execution_count": null,
      "outputs": [
        {
          "output_type": "stream",
          "name": "stdout",
          "text": [
            "Informe um valor: 5\n",
            "O resultado é 10\n"
          ]
        }
      ]
    },
    {
      "cell_type": "markdown",
      "metadata": {
        "id": "tYDfNkC3geee"
      },
      "source": [
        "### 2. Faça um programa que:\n",
        "* receba três números inteiros\n",
        "* calcule e mostre a soma desses números.\n"
      ]
    },
    {
      "cell_type": "code",
      "metadata": {
        "id": "KVDopJZngcRf",
        "colab": {
          "base_uri": "https://localhost:8080/"
        },
        "outputId": "ddddb67e-ff4b-4b7c-fde4-d7d49bd7c1c5"
      },
      "source": [
        "# 1° passo - entrada de dados/valores\n",
        "n1 = int(input(\"Digite o primeiro número: \") )\n",
        "n2 = int(input(\"Digite o segundo número: \") )\n",
        "n3 = int(input(\"Digite o terceiro número: \") )\n",
        "# 2° passo - processamento/cálculo\n",
        "soma_valores = n1 + n2 + n3\n",
        "# 3° passo - saída/apresentação de resultado\n",
        "print(\"A soma dos números, é\" ,soma_valores)"
      ],
      "execution_count": null,
      "outputs": [
        {
          "output_type": "stream",
          "name": "stdout",
          "text": [
            "Digite o primeiro número: 6\n",
            "Digite o segundo número: 4\n",
            "Digite o terceiro número: 9\n",
            "A soma dos números, é 19\n"
          ]
        }
      ]
    },
    {
      "cell_type": "markdown",
      "metadata": {
        "id": "lMGZBLxfghBl"
      },
      "source": [
        "### 3. Faça um programa que receba três notas, calcule e mostre a média aritmética.\n",
        "      LEIA nota1, nota2, nota3\n",
        "      media = (nota1 + nota2 + nota3) / 3\n",
        "      ESCREVA media\n",
        "      "
      ]
    },
    {
      "cell_type": "code",
      "metadata": {
        "id": "awkP7ZbHgxRO",
        "colab": {
          "base_uri": "https://localhost:8080/"
        },
        "outputId": "1d8779c6-e38f-41a0-aab0-8d05121c152d"
      },
      "source": [
        "# 1° passo - entrada de dados/valores\n",
        "nota1 = float(input(\"Digite a primeira nota: \"))\n",
        "nota2 = float(input(\"Digite a segunda nota: \"))\n",
        "nota3 = float(input(\"Digite a terceira nota: \"))\n",
        "\n",
        "# 2° passo - processamento/cálculo\n",
        "media = (nota1 + nota2 + nota3) / 3\n",
        "\n",
        "# 3° passo - saída/apresentação de resultado\n",
        "print(\"A média das notas, é \" , media)"
      ],
      "execution_count": null,
      "outputs": [
        {
          "output_type": "stream",
          "name": "stdout",
          "text": [
            "Digite a primeira nota: 6\n",
            "Digite a segunda nota: 3\n",
            "Digite a terceira nota: 7\n",
            "A média das notas, é  5.333333333333333\n"
          ]
        }
      ]
    },
    {
      "cell_type": "markdown",
      "metadata": {
        "id": "wh1Bjz9agxme"
      },
      "source": [
        "### 4. Faça um programa que:\n",
        "* receba o salário de um funcionário\n",
        "* calcule e mostre o novo salário, sabendo-se que este sofreu um aumento de 25%.\n",
        "\n",
        "      LEIA salario\n",
        "      novoSalario = salario + (salario * 25 / 100)\n",
        "      ESCREVA novoSalario"
      ]
    },
    {
      "cell_type": "code",
      "metadata": {
        "id": "FxXwABFVgygE",
        "colab": {
          "base_uri": "https://localhost:8080/"
        },
        "outputId": "2a7acc92-c3b8-4726-8280-d6836c86a6e9"
      },
      "source": [
        "# 1° passo - entrada de dados\n",
        "salario = float(input(\"Digite o salário atual: \"))\n",
        "# 2° passo - processamento/cálculo\n",
        "novo_salario = salario + (salario * 25 / 100)\n",
        "# 3° passo - saída/apresentação de resultado\n",
        "print(\"O novo salário, é \" , novo_salario)"
      ],
      "execution_count": null,
      "outputs": [
        {
          "output_type": "stream",
          "name": "stdout",
          "text": [
            "Digite o salário atual: 2140.65\n",
            "O novo salário, é  2675.8125\n"
          ]
        }
      ]
    },
    {
      "cell_type": "markdown",
      "metadata": {
        "id": "YQP_f4hzgyrh"
      },
      "source": [
        "### 5. Faça um programa que receba o salário de um funcionário e o percentual de aumento, calcule e mostre o valor do aumento e o novo salário.\n"
      ]
    },
    {
      "cell_type": "code",
      "metadata": {
        "id": "9T2dzNEug1PR",
        "colab": {
          "base_uri": "https://localhost:8080/"
        },
        "outputId": "539e0dd1-e9c3-422d-83e9-fadccfe475f7"
      },
      "source": [
        "# 1° passo - entrada de dados\n",
        "salario = float(input(\"Digite o salário atual: \"))\n",
        "percentual = float(input(\"Digite o percentual: \"))\n",
        "# 2° passo - processamento/cálculo\n",
        "aumento = (salario * percentual / 100)\n",
        "novo_salario = salario + aumento\n",
        "# 3° passo - saída\n",
        "print(\"Valor do aumento, é \" , aumento)\n",
        "print(\"O novo salário, é \" , novo_salario)"
      ],
      "execution_count": null,
      "outputs": [
        {
          "output_type": "stream",
          "name": "stdout",
          "text": [
            "Digite o salário atual: 1245.36\n",
            "Digite o percentual: 9\n",
            "Valor do aumento, é  112.08239999999999\n",
            "O novo salário, é  1357.4424\n"
          ]
        }
      ]
    },
    {
      "cell_type": "markdown",
      "metadata": {
        "id": "PXXsNWWEg1bu"
      },
      "source": [
        "### 6. Faça um programa que receba o salário base de um funcionário, calcule e mostre o salário a receber, sabendo-se que o funcionário tem gratificação de 5% sobre o salário base e **paga imposto** de 7% também sobre o salário base."
      ]
    },
    {
      "cell_type": "code",
      "metadata": {
        "id": "x7xfAIUgg5qV",
        "colab": {
          "base_uri": "https://localhost:8080/"
        },
        "outputId": "d5db2f80-8a71-4d07-fea7-5e56878770d4"
      },
      "source": [
        "# 1° passo - entrada\n",
        "salario = float(input(\"Digite o salário: \"))\n",
        "# 2° passo - processamento\n",
        "gratificacao = (salario * 5 / 100)\n",
        "imposto = (salario * 7 / 100)\n",
        "receber = salario + gratificacao - imposto\n",
        "# 3° passo - saída\n",
        "print(\"O salário a receber será R$ \" , receber)"
      ],
      "execution_count": null,
      "outputs": [
        {
          "output_type": "stream",
          "name": "stdout",
          "text": [
            "Digite o salário: 2314.56\n",
            "O salário a receber será R$  2268.2688\n"
          ]
        }
      ]
    },
    {
      "cell_type": "markdown",
      "metadata": {
        "id": "wSkc33VHg50d"
      },
      "source": [
        "### 7. Faça um programa que receba o salário base de um funcionário, calcule e mostre seu salário a receber, sabendo-se que o funcionário tem gratificação de 50,00 sobre o salário base e paga imposto que deve ser lido e é aplicado sobre o salário base.\n",
        "\n",
        "    LEIA salario, perImposto\n",
        "    imposto = salario * perImposto / 100\n",
        "    salario_a_receber = salario + 50 - imposto\n",
        "    ESCREVA salario_a_receber"
      ]
    },
    {
      "cell_type": "code",
      "metadata": {
        "id": "rEwclxM7g8cj",
        "colab": {
          "base_uri": "https://localhost:8080/"
        },
        "outputId": "555156c2-b5fa-4d8d-e242-e494a2e29189"
      },
      "source": [
        "# 1° passo - Entrada\n",
        "salario = float(input(\"Digite o salário: \"))\n",
        "perimposto = float(input(\"Digite o valor do imposto: \"))\n",
        "# 2° passo - processamento\n",
        "imposto = salario * perimposto / 100\n",
        "salario_a_receber = salario + 50 - imposto\n",
        "# 3° passo - saída\n",
        "print(\"O salário a receber, é \" , salario_a_receber)"
      ],
      "execution_count": null,
      "outputs": [
        {
          "output_type": "stream",
          "name": "stdout",
          "text": [
            "Digite o salário: 1245.36\n",
            "Digite o valor do imposto: 2.5\n",
            "O salário a receber, é  1264.2259999999999\n"
          ]
        }
      ]
    },
    {
      "cell_type": "markdown",
      "metadata": {
        "id": "pvZSNjjzg8oq"
      },
      "source": [
        "### 8. Faça um programa que receba o valor de um depósito e o valor da taxa de juros, calcule e mostre o valor do rendimento e o valor total depois do rendimento de um mês."
      ]
    },
    {
      "cell_type": "code",
      "metadata": {
        "id": "k0zejQegg9ma",
        "colab": {
          "base_uri": "https://localhost:8080/"
        },
        "outputId": "050253a3-b03c-4a39-b019-1cfea1e41032"
      },
      "source": [
        "deposito = float(input(\"Digite depósito: \"))\n",
        "juros = float(input(\"Digite a taxa de juros: \"))\n",
        "rendimento = deposito * juros / 100\n",
        "rendimento_mes = rendimento + deposito\n",
        "print(\"O valor do rendimento, é \",rendimento)\n",
        "print(\"O valor do rendimento do mês, é \", rendimento_mes)"
      ],
      "execution_count": null,
      "outputs": [
        {
          "output_type": "stream",
          "name": "stdout",
          "text": [
            "Digite depósito: 1212.00\n",
            "Digite a taxa de juros: 3\n",
            "O valor do rendimento, é  36.36\n",
            "O valor do rendimento do mês, é  1248.36\n"
          ]
        }
      ]
    },
    {
      "cell_type": "markdown",
      "metadata": {
        "id": "z42ADdywg9xS"
      },
      "source": [
        "### 9. Faça um programa que calcule e mostre a área de um triângulo. Sabe-se que: Área = (base * altura) / 2."
      ]
    },
    {
      "cell_type": "code",
      "metadata": {
        "id": "F-yamLhahCTK",
        "colab": {
          "base_uri": "https://localhost:8080/"
        },
        "outputId": "819699cb-c918-4890-dc8e-9b5557a10b2f"
      },
      "source": [
        "base = float(input(\"Insira a base: \"))\n",
        "altura = float(input(\"Insira a altura: \"))\n",
        "area = (base * altura) / 2\n",
        "print(\"O tamanho da área, é \", area)"
      ],
      "execution_count": null,
      "outputs": [
        {
          "output_type": "stream",
          "name": "stdout",
          "text": [
            "Insira a base: 36\n",
            "Insira a altura: 54\n",
            "O tamanho da área, é  972.0\n"
          ]
        }
      ]
    },
    {
      "cell_type": "markdown",
      "metadata": {
        "id": "s4oSY4EghCfn"
      },
      "source": [
        "### 10. Faça um programa que calcule e mostre a área de um círculo. Sabe-se que: area = pi * raio² ou area = 3.1415 * raio²"
      ]
    },
    {
      "cell_type": "code",
      "metadata": {
        "id": "tvPiHGB0hE5N",
        "colab": {
          "base_uri": "https://localhost:8080/"
        },
        "outputId": "debc2e41-2dad-44f8-8ccf-0c1b46b72203"
      },
      "source": [
        "raio = float(input(\"Insira o raio do circulo: \"))\n",
        "area = 3.1415 * raio ** 2\n",
        "print(\"A área do círculo é \", area)"
      ],
      "execution_count": null,
      "outputs": [
        {
          "output_type": "stream",
          "name": "stdout",
          "text": [
            "Insira o raio do circulo: 6\n",
            "A área do círculo é  113.09400000000001\n"
          ]
        }
      ]
    },
    {
      "cell_type": "markdown",
      "metadata": {
        "id": "vTot3sXrhFAT"
      },
      "source": [
        "### 11. Faça um programa que receba um número, calcule e mostre:\n",
        "* O número digitado ao quadrado\n",
        "* O número digitado ao cubo\n",
        "* A raiz do número digitado\n",
        "* A raiz cúbica do número digitado\n",
        "\n",
        "      LEIA numero\n",
        "      quadrado = numero ** 2\n",
        "      cubo = numero ** 3\n",
        "      raiz_quadrada = numero ** (½) (meio, ou 0.5)\n",
        "      raiz_cubica = numero ** (⅓) (um terço, ou 0.33)\n",
        "      ESCREVA quadrado, cubo, raiz_quadrada, raiz_cubica"
      ]
    },
    {
      "cell_type": "code",
      "metadata": {
        "id": "TT0-h8nChILi",
        "colab": {
          "base_uri": "https://localhost:8080/"
        },
        "outputId": "10ab93a1-ca3b-4edf-ddee-930aa3ca8451"
      },
      "source": [
        "numero = float(input(\"Digite um número: \"))\n",
        "quadrado = numero ** 2\n",
        "cubo = numero ** 3\n",
        "raiz_quadrada = numero ** 0.5\n",
        "raiz_cubica = numero ** 0.33\n",
        "print(\"O quadrado do nùmero é \", quadrado)\n",
        "print(\"O cubo do número é \", cubo)\n",
        "print(\"A raiz quadrada do número é \", raiz_quadrada)\n",
        "print(\"A raiz cúbica do número é \", raiz_cubica)"
      ],
      "execution_count": null,
      "outputs": [
        {
          "output_type": "stream",
          "name": "stdout",
          "text": [
            "Digite um número: 6\n",
            "O quadrado do nùmero é  36.0\n",
            "O cubo do número é  216.0\n",
            "A raiz quadrada do número é  2.449489742783178\n",
            "A raiz cúbica do número é  1.8063001276853345\n"
          ]
        }
      ]
    },
    {
      "cell_type": "markdown",
      "metadata": {
        "id": "6w8k1c0ShIWK"
      },
      "source": [
        "### 12. Faça um programa que receba dois números, calcule e mostre um elevado ao outro. Use os caracteres **\n"
      ]
    },
    {
      "cell_type": "code",
      "metadata": {
        "id": "2KMY_7MQhKuf",
        "colab": {
          "base_uri": "https://localhost:8080/"
        },
        "outputId": "e54cd56c-77db-4d9b-ac96-ab64722ae17b"
      },
      "source": [
        "numero1 = int(input(\"Insira um número: \"))\n",
        "numero2 = int(input(\"Insira outro número: \"))\n",
        "elevado1 = numero1 ** numero2\n",
        "elevado2 = numero2 ** numero1\n",
        "print(\"O primeiro número elevado ao segundo é \", elevado1)\n",
        "print(\"O segundo número elevado ao primeiro é \", elevado2)"
      ],
      "execution_count": null,
      "outputs": [
        {
          "output_type": "stream",
          "name": "stdout",
          "text": [
            "Insira um número: 6\n",
            "Insira outro número: 4\n",
            "O primeiro número elevado ao segundo é  1296\n",
            "O segundo número elevado ao primeiro é  4096\n"
          ]
        }
      ]
    },
    {
      "cell_type": "markdown",
      "metadata": {
        "id": "IKp4FbUQhK3f"
      },
      "source": [
        "### 13. Sabe-se que:\n",
        "\n",
        "* pé = 12 polegadas\n",
        "* 1 jarda = 3 pés\n",
        "* 1 milha = 1760 jarda\n",
        "\n",
        "Faça um programa que receba uma medida em pés, faça as conversões a seguir e mostre os resultados.\n",
        "\n",
        "* Polegadas;\n",
        "* Jardas;\n",
        "* Milhas.\n",
        "\n",
        "      LEIA pes\n",
        "      polegadas = pes * 12\n",
        "      jardas = pes / 3\n",
        "      milhas = jardas / 1760\n",
        "      ESCREVA polegadas, jardas, milhas"
      ]
    },
    {
      "cell_type": "code",
      "metadata": {
        "id": "RIaq7VtchNNp",
        "colab": {
          "base_uri": "https://localhost:8080/"
        },
        "outputId": "46e21b84-7d8a-4d0d-b4fa-9d98dae225b8"
      },
      "source": [
        "pes = float(input(\"Insira a medida em pés: \"))\n",
        "polegadas = pes * 12\n",
        "jardas = pes / 3\n",
        "milhas = jardas / 1760\n",
        "print(\"A medida em polegadas é \", polegadas)\n",
        "print(\"A medida em jadas é \", jardas)\n",
        "print(\"A medida em milhas é \", milhas)"
      ],
      "execution_count": null,
      "outputs": [
        {
          "output_type": "stream",
          "name": "stdout",
          "text": [
            "Insira a medida em pés: 3\n",
            "A medida em polegadas é  36.0\n",
            "A medida em jadas é  1.0\n",
            "A medida em milhas é  0.0005681818181818182\n"
          ]
        }
      ]
    },
    {
      "cell_type": "markdown",
      "metadata": {
        "id": "AuDRKznFhNXx"
      },
      "source": [
        "### 14. Faça um programa que receba o ano de nascimento de uma pessoa e o ano atual, calcule e mostre:\n",
        "* a idade atual da pessoa;\n",
        "* quantos anos ela terá em 2050."
      ]
    },
    {
      "cell_type": "code",
      "metadata": {
        "id": "OMzeO-7bhOGb",
        "colab": {
          "base_uri": "https://localhost:8080/"
        },
        "outputId": "ae92fc92-a0d0-44d1-e5b4-6b87005fc17c"
      },
      "source": [
        "ano_nascimento = int(input(\"Insira o ano de nascimento: \"))\n",
        "ano_atual = int(input(\"Insira o ano atual: \"))\n",
        "idade = ano_atual - ano_nascimento\n",
        "idade2050 = 2050 - ano_nascimento\n",
        "print(\"A idade atual é \", idade)\n",
        "print(\"A idade que terá em 2050 é \", idade2050)"
      ],
      "execution_count": null,
      "outputs": [
        {
          "output_type": "stream",
          "name": "stdout",
          "text": [
            "Insira o ano de nascimento: 1996\n",
            "Insira o ano atual: 2022\n",
            "A idade atual é  26\n",
            "A idade que terá em 2050 é  54\n"
          ]
        }
      ]
    },
    {
      "cell_type": "markdown",
      "metadata": {
        "id": "C23LWTfwhOPH"
      },
      "source": [
        "#### 15. O custo ao consumidor de um carro novo é a soma do preço de fábrica com o percentual de lucro do distribuidor e dos impostos aplicados ao preço de fábrica. Faça um programa que receba o preço de fábrica de um veículo, o percentual de lucro do distribuidor e o percentual de impostos, calcule e mostre:\n",
        "* o valor correspondente ao lucro do distribuidor;\n",
        "* o valor correspondente aos impostos;\n",
        "* o preço final do veículo.\n",
        "        LEIA preco_fabrica\n",
        "        LEIA percentual_lucro_distribuidor\n",
        "        LEIA percentual_imposto\n",
        "        lucro_distribuidor = preco_fabrica * percentual_lucro_distribuidor / 100\n",
        "        valor_imposto = preco_fabrica * percentual_imposto / 100\n",
        "        preco_final = preco_fabrica + lucro_distribuidor + valor_imposto\n",
        "        ESCREVA lucro_distribuidor\n",
        "        ESCREVA valor_imposto\n",
        "        ESCREVA preco_final\n"
      ]
    },
    {
      "cell_type": "code",
      "metadata": {
        "id": "WCpDCuR6hRlb",
        "colab": {
          "base_uri": "https://localhost:8080/"
        },
        "outputId": "a0031ba9-1ade-4fed-d499-5a330aed2c8d"
      },
      "source": [
        "preco_fabrica = float(input(\"Digite o preço de fábrica: \"))\n",
        "percentual_lucro_distribuidor = float(input(\"Digite o percentual de lucro do distribuidor: \"))\n",
        "percentual_imposto = float(input(\"Digite o percentual de imposto: \"))\n",
        "lucro_distribuidor = preco_fabrica * percentual_lucro_distribuidor / 100\n",
        "valor_imposto = preco_fabrica * percentual_imposto / 100\n",
        "preco_final = preco_fabrica + lucro_distribuidor + valor_imposto\n",
        "print(\"O lucro do distribuidor é \", lucro_distribuidor)\n",
        "print(\"O valor do imposto é \", valor_imposto)\n",
        "print(\"O preço final é \", preco_final)"
      ],
      "execution_count": null,
      "outputs": [
        {
          "output_type": "stream",
          "name": "stdout",
          "text": [
            "Digite o preço de fábrica: 13500.23\n",
            "Digite o percentual de lucro do distribuidor: 25\n",
            "Digite o percentual de imposto: 3\n",
            "O lucro do distribuidor é  3375.0575\n",
            "O valor do imposto é  405.00690000000003\n",
            "O preço final é  17280.2944\n"
          ]
        }
      ]
    },
    {
      "cell_type": "markdown",
      "metadata": {
        "id": "eHRob5vghRuI"
      },
      "source": [
        "### 16. Faça um programa que receba o número de horas trabalhadas e o valor do salário mínimo, calcule e mostre o salário a receber, seguindo estas regras:\n",
        "* a hora trabalhada vale a metade do salário mínimo.\n",
        "* o salário bruto equivale ao número de horas trabalhadas multiplicado pelo valor da hora trabalhada.\n",
        "* o imposto equivale a 3% do salário bruto.\n",
        "* o salário a receber equivale ao salário bruto menos o imposto.\n",
        "      LEIA qtde_horas_trabalhadas\n",
        "      LEIA valor_salario_minimo\n",
        "      valor_hora_trabalhada = valor_salario_minimo / 2\n",
        "      valor_salario_bruto = valor_hora_trabalhada * qtde_horas_trabalhadas\n",
        "      imposto = valor_salario_bruto * 3 / 100\n",
        "      valor_salario_liquido =  valor_salario_bruto - imposto\n",
        "      ESCREVA valor_salario_liquido"
      ]
    },
    {
      "cell_type": "code",
      "metadata": {
        "id": "w_Kil4knhVrJ",
        "colab": {
          "base_uri": "https://localhost:8080/"
        },
        "outputId": "f7970f0a-6cd6-4a89-dd49-a26ea69e5189"
      },
      "source": [
        "horas_trabalhadas = float(input(\"Digite a quantidade de horas trabalhadas: \"))\n",
        "salario_minimo = float(input(\"Digite o valor do salário mínimo: \"))\n",
        "valor_hora_trabalhada = salario_minimo / 2\n",
        "valor_salario_bruto = valor_hora_trabalhada * horas_trabalhadas\n",
        "imposto = valor_salario_bruto * 3 / 100\n",
        "valor_salario_liquido =  valor_salario_bruto - imposto\n",
        "print(\"O valor do salário líquido é \", valor_salario_liquido)"
      ],
      "execution_count": null,
      "outputs": [
        {
          "output_type": "stream",
          "name": "stdout",
          "text": [
            "Digite a quantidade de horas trabalhadas: 8\n",
            "Digite o valor do salário mínimo: 1212.00\n",
            "O valor do salário líquido é  4702.56\n"
          ]
        }
      ]
    },
    {
      "cell_type": "markdown",
      "metadata": {
        "id": "0OW87yEnhV-V"
      },
      "source": [
        "### 17. Um trabalhador recebeu seu salário e o depositou em sua conta bancária. Esse trabalhador emitiu dois cheques e agora deseja saber seu saldo atual. O banco criou uma taxa para a operação bancária de retirada que tem que pagar um imposto de 0.38% e o saldo inicial da conta está zerado.\n",
        "\n",
        "      LEIA salario\n",
        "      LEIA valor_cheque1\n",
        "      LEIA valor_cheque2\n",
        "      imposto_cheque1 = valor_cheque1 * 0.38 / 100\n",
        "      saque1 = valor_cheque1 + imposto_cheque1\n",
        "      imposto_cheque2 = cheque2 * 0.38 / 100\n",
        "      saque2 = valor_cheque2 + imposto_cheque2\n",
        "      saldo = salario - saque1 - saque2\n",
        "      ESCREVA saldo\n"
      ]
    },
    {
      "cell_type": "code",
      "metadata": {
        "id": "MUEC63qMhYu1",
        "colab": {
          "base_uri": "https://localhost:8080/"
        },
        "outputId": "d6b2557b-88fa-4083-b36b-3c6f92795f65"
      },
      "source": [
        "salario = float(input(\"Digite o salário: \"))\n",
        "cheque1 = float(input(\"Digite o valor do primeiro cheque: \"))\n",
        "cheque2 = float(input(\"Digite o valor do segundo cheque: \"))\n",
        "imposto_cheque1 = cheque1 * 0.38 / 100\n",
        "saque1 = cheque1 + imposto_cheque1\n",
        "imposto_cheque2 = cheque2 * 0.38 / 100\n",
        "saque2 = cheque2 + imposto_cheque2\n",
        "saldo = salario - saque1 - saque2\n",
        "print(\"O saldo atual é \", saldo)"
      ],
      "execution_count": null,
      "outputs": [
        {
          "output_type": "stream",
          "name": "stdout",
          "text": [
            "Digite o salário: 1212.00\n",
            "Digite o valor do primeiro cheque: 200.36\n",
            "Digite o valor do segundo cheque: 123.56\n",
            "O saldo atual é  886.8491039999999\n"
          ]
        }
      ]
    },
    {
      "cell_type": "markdown",
      "metadata": {
        "id": "tbHb8qiYheU3"
      },
      "source": [
        "### 18. Faça um programa que receba a medida do ângulo (em graus) formado por uma escada apoiada no chão e encostada na parede e a altura da parede onde está a ponta da escada. Calcule e mostre a medida dessa escada. Observação: as funções trigonométricas implementadas nas linguagens de programação trabalham com medidas de ângulos em radianos.\n",
        "      LEIA angulo\n",
        "      LEIA altura\n",
        "      import math # carrega a biblioteca matemática\n",
        "      radiano = angulo * math.pi / 180\n",
        "      escada = altura / math.sin(radiano)\n",
        "      ESCREVA escada\n",
        "**Observação**: Para usar seno em Python, deve-se usar esta linha de código **import math** e esta, no cálculo, **math.sin(numero)**\n",
        "\n",
        "**import math**\n",
        "\n",
        "escada = altura / **math.sin**(numero)"
      ]
    },
    {
      "cell_type": "code",
      "metadata": {
        "id": "Ijh7i02rhg0D",
        "colab": {
          "base_uri": "https://localhost:8080/"
        },
        "outputId": "071e37c2-e665-4f21-d8ff-223cd5db4d67"
      },
      "source": [
        "angulo = float(input(\"Insira um ângulo: \"))\n",
        "altura = float(input(\"Insira uma altura: \"))\n",
        "import math # carrega a biblioteca matemática\n",
        "radiano = angulo * math.pi / 180\n",
        "escada = altura / math.sin(radiano)\n",
        "print(\"A medida da escada é \", escada)"
      ],
      "execution_count": null,
      "outputs": [
        {
          "output_type": "stream",
          "name": "stdout",
          "text": [
            "Insira um ângulo: 25\n",
            "Insira uma altura: 1.65\n",
            "A medida da escada é  3.904232612201622\n"
          ]
        }
      ]
    },
    {
      "cell_type": "markdown",
      "metadata": {
        "id": "P2CNkCZ5hiJH"
      },
      "source": [
        "###19. Sabe-se que o quilowatt de energia custa um quinto do salário mínimo. Faça um programa que receba o valor do salário mínimo e a quantidade de quilowatts consumida por uma residência. Calcule e mostre:\n",
        "\n",
        "\n",
        "* o valor de cada quilowatt;\n",
        "* o valor a ser pago por essa residência;\n",
        "* o valor a ser pago com desconto de 15%.\n",
        "      LEIA valor_salario\n",
        "      LEIA qtde_quilowatt\n",
        "      valor_quilowatt = valor_salario / 5\n",
        "      valor_em_reais = valor_quilowatt * qtde_quilowatt\n",
        "      valor_descontado = valor_em_reais * 15 / 100\n",
        "      valor_com_desconto =  valor_em_reais − valor_descontado\n",
        "      ESCREVA valor_quilowatt\n",
        "      ESCREVA valor_em_reais\n",
        "      ESCREVA valor_com_desconto\n"
      ]
    },
    {
      "cell_type": "code",
      "metadata": {
        "id": "RJpeKC7NhmIf",
        "colab": {
          "base_uri": "https://localhost:8080/"
        },
        "outputId": "6d0aeb9f-debd-4a8a-fc7d-6bec6bce0b47"
      },
      "source": [
        "salario_minimo = float(input(\"Insira o salário mínimo: \"))\n",
        "quilowatt = float(input('Insira a quantidade de quilowatts consumida na residência: '))\n",
        "valor_quilowatt = salario_minimo / 5\n",
        "valor_em_reais = valor_quilowatt * quilowatt\n",
        "valor_descontado = valor_em_reais * 15 / 100\n",
        "valor_desconto = valor_em_reais - valor_descontado\n",
        "print(\"O valor do quilowatt é \", valor_quilowatt)\n",
        "print(\"O valor a ser pago por residência é \", valor_em_reais)\n",
        "print(\"O valor com desconto é \", valor_desconto)"
      ],
      "execution_count": null,
      "outputs": [
        {
          "output_type": "stream",
          "name": "stdout",
          "text": [
            "Insira o salário mínimo: 1212.00\n",
            "Insira a quantidade de quilowatts consumida na residência: 136\n",
            "O valor do quilowatt é  242.4\n",
            "O valor a ser pago por residência é  32966.4\n",
            "O valor com desconto é  28021.440000000002\n"
          ]
        }
      ]
    },
    {
      "cell_type": "markdown",
      "metadata": {
        "id": "hDmdn0BWhmTx"
      },
      "source": [
        "### 20. Faça um programa que receba um número real, encontre e mostre:\n",
        "\n",
        "* a parte inteira desse número;\n",
        "* a parte fracionária desse número;\n",
        "* o arredondamento desse número.\n",
        "\n",
        "      LEIA numero\n",
        "      parte_inteira = numero // 1\n",
        "      parte_fracionaria = numero - parte_inteira\n",
        "      numero_arredondado = arredonda (numero)\n",
        "      ESCREVA parte_inteira\n",
        "      ESCREVA parte_fracionaria\n",
        "      ESCREVA numero_arredondado\n",
        "      \n",
        "**Observação**: Para arredondar um número em Python, usa-se a função **round(numero)**, onde se o número real/float estiver em igual distância entre o inteiro de cima e o inteiro de baixo, esta função arredonda para o número par mais próximo.\n",
        "\n"
      ]
    },
    {
      "cell_type": "code",
      "metadata": {
        "id": "sT5U0LgGhozg",
        "colab": {
          "base_uri": "https://localhost:8080/"
        },
        "outputId": "a733423f-fe84-46bb-cc81-7924b3c97080"
      },
      "source": [
        "numero = float(input(\"Insira um número: \"))\n",
        "inteira = numero // 1\n",
        "fracionaria = numero - inteira\n",
        "arredondado = round (numero)\n",
        "print(\"A parte inteira desse número é \", inteira)\n",
        "print(\"A parte fracionária desse número é \", fracionaria)\n",
        "print(\"O arredondamento desse número é \", arredondado)"
      ],
      "execution_count": null,
      "outputs": [
        {
          "output_type": "stream",
          "name": "stdout",
          "text": [
            "Insira um número: 1.2\n",
            "A parte inteira desse número é  1.0\n",
            "A parte fracionária desse número é  0.19999999999999996\n",
            "O arredondamento desse número é  1\n"
          ]
        }
      ]
    },
    {
      "cell_type": "markdown",
      "metadata": {
        "id": "0Ae-WDdAho8j"
      },
      "source": [
        "### 21. Faça um programa que receba uma hora formada por hora e minutos (um número real), calcule e mostre a hora digitada apenas em minutos. Lembre-se de que:\n",
        "* para quatro e meia, deve-se digitar 4.30;\n",
        "* os minutos vão de 0 a 59.\n",
        "      LEIA hora\n",
        "      h = pegar a parte inteira da variável hora\n",
        "      minutos = hora − h\n",
        "      conversao = (h * 60) + (minutos * 100)\n",
        "      ESCREVA conversao\n"
      ]
    },
    {
      "cell_type": "code",
      "metadata": {
        "id": "ePoxc4bohrQm",
        "colab": {
          "base_uri": "https://localhost:8080/"
        },
        "outputId": "05c251f7-4948-431e-f7af-a14c60419154"
      },
      "source": [
        "hora = float(input(\"Insira uma hora: \"))\n",
        "h = hora // 1\n",
        "minutos = hora - h\n",
        "conversao = (h * 60) + (minutos * 100)\n",
        "print(\"A hora em minutos é \", conversao)"
      ],
      "execution_count": null,
      "outputs": [
        {
          "output_type": "stream",
          "name": "stdout",
          "text": [
            "Insira uma hora: 03.45\n",
            "A hora em minutos é  225.0\n"
          ]
        }
      ]
    },
    {
      "cell_type": "markdown",
      "metadata": {
        "id": "-YjvNy_DhrZa"
      },
      "source": [
        "### 22. Faça um programa que receba o custo de um espetáculo teatral e o preço do convite desse espetáculo. Esse programa deverá calcular e mostrar a quantidade de convites que devem ser vendidos para que, pelo menos, o custo do espetáculo seja alcançado.\n"
      ]
    },
    {
      "cell_type": "code",
      "metadata": {
        "id": "55qawy58hsl0",
        "colab": {
          "base_uri": "https://localhost:8080/"
        },
        "outputId": "55c8b7b9-29fd-412a-a055-1a23ce75d6b3"
      },
      "source": [
        "custo = float(input(\"Insira o custo do espetáculo: \"))\n",
        "preco = float(input(\"Insira o preço do convite desse espetáculo: \"))\n",
        "qnt_convite = custo // preco\n",
        "print(\"A quantidade de convites que devem ser vendidos é \", qnt_convite)"
      ],
      "execution_count": null,
      "outputs": [
        {
          "output_type": "stream",
          "name": "stdout",
          "text": [
            "Insira o custo do espetáculo: 750.00\n",
            "Insira o preço do convite desse espetáculo: 25.00\n",
            "A quantidade de convites que devem ser vendidos é  30.0\n"
          ]
        }
      ]
    }
  ]
}