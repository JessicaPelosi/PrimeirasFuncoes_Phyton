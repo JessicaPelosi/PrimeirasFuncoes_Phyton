{
  "nbformat": 4,
  "nbformat_minor": 0,
  "metadata": {
    "colab": {
      "provenance": [],
      "include_colab_link": true
    },
    "kernelspec": {
      "name": "python3",
      "display_name": "Python 3"
    }
  },
  "cells": [
    {
      "cell_type": "markdown",
      "metadata": {
        "id": "view-in-github",
        "colab_type": "text"
      },
      "source": [
        "<a href=\"https://colab.research.google.com/github/JessicaPelosi/PrimeirasFuncoes_Phyton/blob/main/Estrutura_Repeticao_SemContador.ipynb\" target=\"_parent\"><img src=\"https://colab.research.google.com/assets/colab-badge.svg\" alt=\"Open In Colab\"/></a>"
      ]
    },
    {
      "cell_type": "markdown",
      "metadata": {
        "id": "E64RcqHIMXAS"
      },
      "source": [
        "### **EXERCÍCIOS DE ESTRUTURA DE REPETIÇÃO SEM CONTADOR**\n"
      ]
    },
    {
      "cell_type": "markdown",
      "metadata": {
        "id": "_q0kBpMGMbRF"
      },
      "source": [
        "###1. Construir um algoritmo para calcular e apresentar o total de salários pagos de funcionários, mas não é informado a quantidade de pessoas, então use como critério de parada (condição da estrutura de repetição, digitar zero no salário para sair.\n"
      ]
    },
    {
      "cell_type": "code",
      "metadata": {
        "id": "uLE2w6-aMadI",
        "colab": {
          "base_uri": "https://localhost:8080/"
        },
        "outputId": "39ad2d84-4c51-499e-dbf8-b00f79ddf8e1"
      },
      "source": [
        "salario = float(input(\"...Para encerrar digite zero. Informe o salário R$ \"))\n",
        "total = 0\n",
        "while salario > 0:\n",
        "    total = total + salario\n",
        "    salario = float(input(\"Para encerrar digite zero. Informe o salário R$ \"))\n",
        "print(f\"Total de salários pagos R$ {total:.2f}\")"
      ],
      "execution_count": null,
      "outputs": [
        {
          "output_type": "stream",
          "name": "stdout",
          "text": [
            "...Para encerrar digite zero. Informe o salário R$ 5000\n",
            "Para encerrar digite zero. Informe o salário R$ 3500\n",
            "Para encerrar digite zero. Informe o salário R$ 2700\n",
            "Para encerrar digite zero. Informe o salário R$ 1800\n",
            "Para encerrar digite zero. Informe o salário R$ 6000\n",
            "Para encerrar digite zero. Informe o salário R$ 0\n",
            "Total de salários pagos R$ 19000.00\n"
          ]
        }
      ]
    },
    {
      "cell_type": "markdown",
      "metadata": {
        "id": "y7gc7ImtKBee"
      },
      "source": [
        "###2. Faça um programa que receba a altura de 5 pessoas. Encontre e apresente a altura da pessoa mais alta e da mais baixa e seus respectivos nomes."
      ]
    },
    {
      "cell_type": "code",
      "metadata": {
        "id": "r3DxVv2mKIcR",
        "colab": {
          "base_uri": "https://localhost:8080/"
        },
        "outputId": "f3210993-275e-4c85-ad4b-ed49c876d311"
      },
      "source": [
        "for pessoas in range(5):\n",
        "    altura = float(input(\"Digite a altura: \"))\n",
        "    nome = input(\"Digite o nome: \")\n",
        "    #Dica de implementação: Inicializar as variáveis de menor e maior valor dentro do laço de repetiçao, quando você souber, quantas vezes repete.\n",
        "    #if relacionado a pessoas / início\n",
        "    if pessoas == 0: \n",
        "        alto = altura \n",
        "        nomea = nome\n",
        "        baixo = altura \n",
        "        nomeb = nome\n",
        "    #if relacionado a alturas\n",
        "    #sinal de igual o ultimo fica, sem o sinal de igual é o primeiro que aparece\n",
        "    if altura >= alto:\n",
        "        alto = altura\n",
        "        nomea = nome\n",
        "    elif altura <= baixo:\n",
        "        baixo = altura\n",
        "        nomeb = nome\n",
        "print(nomea, \"é mais alto, com\",alto,\"metros.\")\n",
        "print(nomeb, \"é mais baixo, com\",baixo,\"metros.\")"
      ],
      "execution_count": null,
      "outputs": [
        {
          "output_type": "stream",
          "name": "stdout",
          "text": [
            "Digite a altura: 1.78\n",
            "Digite o nome: Lucas\n",
            "Digite a altura: 1.80\n",
            "Digite o nome: Andres\n",
            "Digite a altura: 1.75\n",
            "Digite o nome: Felipe\n",
            "Digite a altura: 1.80\n",
            "Digite o nome: Edivaldo\n",
            "Digite a altura: 1.65\n",
            "Digite o nome: Patrícia\n",
            "Edivaldo é mais alto, com 1.8 metros.\n",
            "Patrícia é mais baixo, com 1.65 metros.\n"
          ]
        }
      ]
    },
    {
      "cell_type": "markdown",
      "metadata": {
        "id": "Dk1zCWGbJezq"
      },
      "source": [
        "###3. Faça um programa que receba a altura de várias pessoas. Encontre e apresente a altura da pessoa mais alta e da mais baixa e seus respectivos nomes. Para encerrar a entrada de dados, zero na altura, mas esta não poderá ser considerada como resposta da altura da pessoa mais baixa.\n"
      ]
    },
    {
      "cell_type": "code",
      "metadata": {
        "id": "C-W0c_6rKKwh",
        "colab": {
          "base_uri": "https://localhost:8080/"
        },
        "outputId": "00cee872-6263-4512-c645-de76b1c9955d"
      },
      "source": [
        "altura = float(input(\"Insira a altura: \"))\n",
        "nome = input(\"Insira o nome: \")\n",
        "if altura > 0: \n",
        "    alto = altura\n",
        "    nomea = nome\n",
        "    baixo = altura\n",
        "    nomeb = nome\n",
        "while altura > 0:\n",
        "    if altura >= alto:\n",
        "        alto = altura\n",
        "        nomea = nome\n",
        "    elif altura <= baixo:\n",
        "        baixo = altura\n",
        "        nomeb = nome\n",
        "    altura = float(input(\"Insira a altura: \"))    \n",
        "    nome = input(\"Insira o nome: \")\n",
        "print(nomea, \"é mais alto, com\",alto,\"metros.\")\n",
        "print(nomeb, \"é mais baixo, com\",baixo,\"metros.\")"
      ],
      "execution_count": null,
      "outputs": [
        {
          "output_type": "stream",
          "name": "stdout",
          "text": [
            "Insira a altura: 1.65\n",
            "Insira o nome: Jéssica\n",
            "Insira a altura: 1.70\n",
            "Insira o nome: Juliana\n",
            "Insira a altura: 1.64\n",
            "Insira o nome: Julia\n",
            "Insira a altura: 0\n",
            "Insira o nome: 0\n",
            "Juliana é mais alto, com 1.7 metros.\n",
            "Julia é mais baixo, com 1.64 metros.\n"
          ]
        }
      ]
    },
    {
      "cell_type": "code",
      "source": [
        "altura = float(input(\"Insira a altura: \"))\n",
        "alto = 0\n",
        "baixo = 4\n",
        "while altura > 0:\n",
        "    nome = input(\"Insira o nome: \")\n",
        "    if altura >= alto:\n",
        "        alto = altura\n",
        "        nomea = nome\n",
        "    elif altura <= baixo:\n",
        "        baixo = altura\n",
        "        nomeb = nome\n",
        "    altura = float(input(\"Insira a altura: \"))\n",
        "print(nomea, \"é mais alto, com\",alto,\"metros.\")\n",
        "print(nomeb, \"é mais baixo, com\",baixo,\"metros.\")"
      ],
      "metadata": {
        "colab": {
          "base_uri": "https://localhost:8080/"
        },
        "id": "JVR5ERZfMCHg",
        "outputId": "c767f813-3a16-41bc-8c6d-f6153a885ef9"
      },
      "execution_count": null,
      "outputs": [
        {
          "output_type": "stream",
          "name": "stdout",
          "text": [
            "Insira a altura: 1.65\n",
            "Insira o nome: Jessica\n",
            "Insira a altura: 1.70\n",
            "Insira o nome: Juliana\n",
            "Insira a altura: 1.64\n",
            "Insira o nome: Julia\n",
            "Insira a altura: 0\n",
            "Juliana é mais alto, com 1.7 metros.\n",
            "Julia é mais baixo, com 1.64 metros.\n"
          ]
        }
      ]
    },
    {
      "cell_type": "markdown",
      "metadata": {
        "id": "mWl0IWlJNEtA"
      },
      "source": [
        "###4. Faça um programa que receba a idade e a altura de várias pessoas. Calcule e exiba a média das alturas das pessoas com mais de 20 anos. Para encerrar a entrada de dados, digite uma idade negativa ou igual a zero.\n",
        "\n",
        "\n"
      ]
    },
    {
      "cell_type": "code",
      "metadata": {
        "id": "IcSBSaDV8sO_",
        "colab": {
          "base_uri": "https://localhost:8080/"
        },
        "outputId": "1cef39b3-1907-4905-b0ba-8ca2321d3a6b"
      },
      "source": [
        "soma_altura = 0\n",
        "cont20 = 0\n",
        "idade = int(input(\"Insira a idade: \"))\n",
        "while idade > 0:\n",
        "    altura = float(input(\"Insira a altura: \"))\n",
        "    if idade >= 20:\n",
        "        soma_altura = soma_altura + altura\n",
        "        cont20 = cont20 + 1\n",
        "    idade = int(input(\"Insira a idade: \"))\n",
        "media = soma_altura / cont20\n",
        "print(f\"A média das alturas é {media:.2f} metros.\")"
      ],
      "execution_count": null,
      "outputs": [
        {
          "output_type": "stream",
          "name": "stdout",
          "text": [
            "Insira a idade: 22\n",
            "Insira a altura: 1.60\n",
            "Insira a idade: 23\n",
            "Insira a altura: 1.70\n",
            "Insira a idade: 16\n",
            "Insira a altura: 1.65\n",
            "Insira a idade: -5\n",
            "A média das alturas é 1.65 metros.\n"
          ]
        }
      ]
    },
    {
      "cell_type": "markdown",
      "metadata": {
        "id": "14hzaqH38V53"
      },
      "source": [
        "###5. Construir um algoritmo para calcular e apresentar a idade atual de algumas pessoas em relação ao ano atual, mas não é informado a quantidade de pessoas, então use como critério de parada (condição da estrutura de repetição, digitar zero no ano de nascimento para sair."
      ]
    },
    {
      "cell_type": "code",
      "metadata": {
        "id": "XxrUc9yWND8a",
        "colab": {
          "base_uri": "https://localhost:8080/"
        },
        "outputId": "e7e63291-288b-4ac6-cd57-e63b7e558e11"
      },
      "source": [
        "ano_nascimento = int(input(\"Insira o ano de nascimento: \"))\n",
        "while ano_nascimento != 0:\n",
        "    ano_atual = int(input(\"Insira o ano atual: \"))\n",
        "    idade = ano_atual - ano_nascimento\n",
        "    print(\"A idade atual é\", idade, \"anos.\")\n",
        "    ano_nascimento = int(input(\"Insira o ano de nascimento: \"))"
      ],
      "execution_count": null,
      "outputs": [
        {
          "name": "stdout",
          "output_type": "stream",
          "text": [
            "Insira o ano de nascimento: 1996\n",
            "Insira o ano atual: 2022\n",
            "A idade atual é 26 anos.\n",
            "Insira o ano de nascimento: 1984\n",
            "Insira o ano atual: 2022\n",
            "A idade atual é 38 anos.\n",
            "Insira o ano de nascimento: 0\n"
          ]
        }
      ]
    },
    {
      "cell_type": "markdown",
      "metadata": {
        "id": "inPGbmBaMe3R"
      },
      "source": [
        "###6. Faça um programa que receba um conjunto de valores inteiros, calcule e exiba o maior e o menor valor do conjunto.\n",
        "\n",
        "\n",
        "*   Para encerrar a entrada de dados, deve ser digitado o valor zero;\n",
        "*   Para valores negativos, deve ser enviada uma mensagem;\n",
        "*   Esses valores (zero e negativos) não entrarão na lógica de encontrar o maior e o menor valor.\n",
        "\n"
      ]
    },
    {
      "cell_type": "code",
      "metadata": {
        "id": "Q8ZKZyGLNxFf",
        "colab": {
          "base_uri": "https://localhost:8080/"
        },
        "outputId": "f350d483-ef2b-4180-c513-02e3abb12c2e"
      },
      "source": [
        "num = int(input(\"Insira um número inteiro...: \"))\n",
        "maior_num = 0 # Forçando a inicialização de conteúdo \n",
        "menor_num = 99999999 # das variáveis\n",
        "while num != 0:\n",
        "    if num >= maior_num and num > 0:\n",
        "        maior_num = num\n",
        "    if num <= menor_num and num > 0:\n",
        "        menor_num = num\n",
        "    if num < 0:\n",
        "        print(\"Número negativo.\")\n",
        "    num = int(input(\"Insira um número inteiro: \"))\n",
        "print(\"Maior número:\", maior_num)\n",
        "print(\"Menor número:\", menor_num)"
      ],
      "execution_count": null,
      "outputs": [
        {
          "output_type": "stream",
          "name": "stdout",
          "text": [
            "Insira um número inteiro...: -10\n",
            "Número negativo.\n",
            "Insira um número inteiro: 78\n",
            "Insira um número inteiro: -9\n",
            "Número negativo.\n",
            "Insira um número inteiro: 14\n",
            "Insira um número inteiro: 30\n",
            "Insira um número inteiro: 65\n",
            "Insira um número inteiro: 0\n",
            "Maior número: 78\n",
            "Menor número: 14\n"
          ]
        }
      ]
    },
    {
      "cell_type": "code",
      "source": [
        "num = int(input(\"Insira um número inteiro...: \"))\n",
        "if num > 0:\n",
        "    maior_num = num \n",
        "    menor_num = num\n",
        "while num != 0:\n",
        "    if num >= maior_num:\n",
        "        maior_num = num\n",
        "    if num <= menor_num:\n",
        "        menor_num = num\n",
        "    if num < 0:\n",
        "        print(\"Número negativo.\")\n",
        "    num = int(input(\"Insira um número inteiro: \"))\n",
        "print(\"Maior número:\", maior_num)\n",
        "print(\"Menor número:\", menor_num)"
      ],
      "metadata": {
        "colab": {
          "base_uri": "https://localhost:8080/"
        },
        "id": "UuHfSUpjOFIR",
        "outputId": "bc7a568e-4ba1-4c70-a5fb-149f54f5ee6a"
      },
      "execution_count": null,
      "outputs": [
        {
          "output_type": "stream",
          "name": "stdout",
          "text": [
            "Insira um número inteiro...: 9\n",
            "Insira um número inteiro: 4\n",
            "Insira um número inteiro: -99\n",
            "Número negativo.\n",
            "Insira um número inteiro: -1\n",
            "Número negativo.\n",
            "Insira um número inteiro: 20\n",
            "Insira um número inteiro: 2\n",
            "Insira um número inteiro: 0\n",
            "Maior número: 20\n",
            "Menor número: 2\n"
          ]
        }
      ]
    },
    {
      "cell_type": "markdown",
      "metadata": {
        "id": "ZG-AZwwLN4Vf"
      },
      "source": [
        "###7. No final do ano muitas pessoas compram presentes. Faça um programa que registre alguns dados das pessoas, usando como critério de parada a letra ‘n’, para a pergunta “Deseja cadastrar outro (‘s’/’n’)?”, para identificar o perfil dos compradores numa loja de roupas e apresente como resultado a:\n",
        "a)   Quantidade de mulheres e de homens;\n",
        "\n",
        "b)   Quantidade de mulheres e de homens abaixo e acima de 18 anos."
      ]
    },
    {
      "cell_type": "code",
      "metadata": {
        "id": "t4jNff-_N9xR",
        "colab": {
          "base_uri": "https://localhost:8080/"
        },
        "outputId": "410b0e35-2d14-44ad-d2b1-975d8e4d82a0"
      },
      "source": [
        "cadastro = input(\"Insira 's' para iniciar ou 'n' para sair: \")\n",
        "soma_m = 0\n",
        "soma_f = 0\n",
        "menor_idadem = 0\n",
        "maior_idadem = 0\n",
        "menor_idadef = 0\n",
        "maior_idadef = 0\n",
        "\n",
        "while cadastro == 's':\n",
        "    sexo = input(\"Insira F para feminino ou M para masculino: \")\n",
        "    idade = int(input(\"Insira a idade: \"))\n",
        "    \n",
        "    if sexo == \"m\" or sexo == \"M\":\n",
        "        soma_m = soma_m + 1\n",
        "        if idade < 18:\n",
        "            menor_idadem = menor_idadem + 1\n",
        "        else:\n",
        "            maior_idadem = maior_idadem + 1\n",
        "    if sexo == \"f\" or sexo == \"F\":\n",
        "        soma_f = soma_f + 1\n",
        "        if idade < 18:\n",
        "            menor_idadef = menor_idadef + 1\n",
        "        else:\n",
        "            maior_idadef = maior_idadef + 1\n",
        "    cadatro = input(\"Insira 's' para continuar ou 'n' para sair: \")\n",
        "print(\"O número de homens é\",soma_m)\n",
        "print(\"O número de mulheres é\",soma_f)\n",
        "print(\"O número de homens com menos de 18 anos é\", menor_idadem,\"e com mais de 18 anos é\",maior_idadem)\n",
        "print(\"O número de mulheres com menos de 18 anos é\", menor_idadef,\"e com mais de 18 anos é\",maior_idadef)"
      ],
      "execution_count": null,
      "outputs": [
        {
          "output_type": "stream",
          "name": "stdout",
          "text": [
            "Insira 's' para iniciar ou 'n' para sair: n\n",
            "O número de homens é 0\n",
            "O número de mulheres é 0\n",
            "O número de homens com menos de 18 anos é 0 e com mais de 18 anos é 0\n",
            "O número de mulheres com menos de 18 anos é 0 e com mais de 18 anos é 0\n"
          ]
        }
      ]
    }
  ]
}