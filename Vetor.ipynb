{
  "nbformat": 4,
  "nbformat_minor": 0,
  "metadata": {
    "colab": {
      "provenance": [],
      "include_colab_link": true
    },
    "kernelspec": {
      "name": "python3",
      "display_name": "Python 3"
    }
  },
  "cells": [
    {
      "cell_type": "markdown",
      "metadata": {
        "id": "view-in-github",
        "colab_type": "text"
      },
      "source": [
        "<a href=\"https://colab.research.google.com/github/JessicaPelosi/PrimeirasFuncoes_Phyton/blob/main/Vetor.ipynb\" target=\"_parent\"><img src=\"https://colab.research.google.com/assets/colab-badge.svg\" alt=\"Open In Colab\"/></a>"
      ]
    },
    {
      "cell_type": "markdown",
      "metadata": {
        "id": "BTk5UJlvXLuB"
      },
      "source": [
        "#**EXERCÍCIOS SOBRE VETOR**"
      ]
    },
    {
      "cell_type": "markdown",
      "metadata": {
        "id": "YOspAvb8YpqR"
      },
      "source": [
        "### 1. Faça um programa que calcule e apresente a média de idades de uma sala de 35 alunos.​​"
      ]
    },
    {
      "cell_type": "code",
      "metadata": {
        "id": "PR5Z9QlTXHEO",
        "colab": {
          "base_uri": "https://localhost:8080/"
        },
        "outputId": "e3e1d020-5f95-4217-90b0-f9bd8f25f138"
      },
      "source": [
        "'''*********************************************************\n",
        "   *** i é o índice, um valor inteiro                    ***\n",
        "   *** idade[i] tem conteúdo, que é uma idade armazenada ***\n",
        "   *********************************************************\n",
        "'''\n",
        "acumula_idades = 0\n",
        "idade = [] # Declarando e inicializando o vetor\n",
        "for i in range(3): #Inserindo elementos no vetor, cada um, em um índice diferente\n",
        "    idade.append(int(input(\"Insira a idade: \")))\n",
        "    acumula_idades = acumula_idades + idade[i]\n",
        "\n",
        "media = acumula_idades / len(idade)\n",
        "print(\"Média =\",media,\"anos de idade.\")\n",
        "print(idade)\n",
        "\n",
        "for i in range(len(idade)):\n",
        "    print(\"Índice:\",i,\"Conteúdo do vetor idade:\",idade[i])        "
      ],
      "execution_count": null,
      "outputs": [
        {
          "output_type": "stream",
          "name": "stdout",
          "text": [
            "Insira a idade: 31\n",
            "Insira a idade: 44\n",
            "Insira a idade: 10\n",
            "Média = 28.333333333333332 anos de idade.\n",
            "[31, 44, 10]\n",
            "Índice: 0 Conteúdo do vetor idade: 31\n",
            "Índice: 1 Conteúdo do vetor idade: 44\n",
            "Índice: 2 Conteúdo do vetor idade: 10\n"
          ]
        }
      ]
    },
    {
      "cell_type": "markdown",
      "metadata": {
        "id": "XtTydU3HZNHi"
      },
      "source": [
        "### 2. Faça um programa que calcule e apresente a média de alturas de uma sala de 35 alunos. Informe também quantos alunos **e** quais (índice/posição) são os que possuem idade superior a 25 anos.​ Use dois vetores, um para altura e outro para idade. Não use nenhuma função pronta da linguagem Python.\n"
      ]
    },
    {
      "cell_type": "code",
      "metadata": {
        "id": "n-bT5WDZZQQ0",
        "colab": {
          "base_uri": "https://localhost:8080/"
        },
        "outputId": "27f0ed0e-aa5b-4964-8e1e-fa5a2fa17730"
      },
      "source": [
        "altura = []\n",
        "idade = []\n",
        "total_alturas = 0\n",
        "#esta estrutura de repetição apenas insere valores dentro dos vetores\n",
        "for i in range(3):\n",
        "    altura.append(float(input(\"Informa a altura: \")))\n",
        "    idade.append(int(input(\"Informa a idade: \")))\n",
        "    total_alturas = total_alturas + altura[i]\n",
        "media = total_alturas / len(altura)\n",
        "print(f\"A média de alturas é {media:.2f} metros.\")\n",
        "qtde = 0\n",
        "#esta estrutura de repetição contará e representará quem são as pessoas com mais de 25 anos\n",
        "for i in range( len(idade)):\n",
        "    if idade[i] > 25:\n",
        "        qtde = qtde + 1\n",
        "        print(\"O aluno nº\",i+1,\"tem\",idade[i],\"anos e é maior que 25.\")\n",
        "print(\"Quantidade de alunos: \",qtde)"
      ],
      "execution_count": null,
      "outputs": [
        {
          "output_type": "stream",
          "name": "stdout",
          "text": [
            "Informa a altura: 1.8\n",
            "Informa a idade: 37\n",
            "Informa a altura: 1.9\n",
            "Informa a idade: 28\n",
            "Informa a altura: 1.6\n",
            "Informa a idade: 21\n",
            "A média de alturas é 1.77 metros.\n",
            "O aluno nº 1 tem 37 anos e é maior que 25.\n",
            "O aluno nº 2 tem 28 anos e é maior que 25.\n"
          ]
        }
      ]
    },
    {
      "cell_type": "markdown",
      "metadata": {
        "id": "3x_WkNYTZQeD"
      },
      "source": [
        "### 3. Faça um programa que carregue um vetor de dez elementos que contenha o nome de pessoas e outro que contenha o peso, encontre qual a pessoa mais gorda e mais magra e apresente o nome o peso das mesmas.​ Use dois vetores, um para peso e outro para nome. Não use nenhuma função pronta da linguagem Python."
      ]
    },
    {
      "cell_type": "code",
      "metadata": {
        "id": "7VsianjuZMrf",
        "colab": {
          "base_uri": "https://localhost:8080/"
        },
        "outputId": "39f256d6-ec4b-4bf6-cab9-d372ee6d705d"
      },
      "source": [
        "nome = []\n",
        "peso = []\n",
        "for i in range(3):\n",
        "    nome.append(input(\"Insira o nome: \"))\n",
        "    peso.append(float(input(\"Insira o peso: \")))\n",
        "    if i == 0:\n",
        "        gordo = peso[i]\n",
        "        nomeg = nome[i]\n",
        "        magro = peso[i]\n",
        "        nomem = nome[i]\n",
        "    if peso[i] >= gordo:\n",
        "        gordo = peso[i]\n",
        "        nomeg = nome[i]\n",
        "    if peso[i] <= magro:\n",
        "        magro = peso[i]\n",
        "        nomem = nome[i]\n",
        "print(nomeg, \"é mais pesado, com\",gordo,\"quilos.\")\n",
        "print(nomem, \"é mais leve, com\",magro,\"quilos.\")   "
      ],
      "execution_count": null,
      "outputs": [
        {
          "output_type": "stream",
          "name": "stdout",
          "text": [
            "Insira o nome: Je\n",
            "Insira o peso: 56\n",
            "Insira o nome: Ju\n",
            "Insira o peso: 85\n",
            "Insira o nome: Juli\n",
            "Insira o peso: 63\n",
            "Ju é mais pesado, com 85.0 quilos.\n",
            "Je é mais leve, com 56.0 quilos.\n"
          ]
        }
      ]
    },
    {
      "cell_type": "markdown",
      "metadata": {
        "id": "xSpiII3mZdQV"
      },
      "source": [
        "### 4. Faça um programa que carregue um vetor com a média de dez alunos, calcule e mostre a MÉDIA DA SALA e quantos alunos estão acima e abaixo da média da sala."
      ]
    },
    {
      "cell_type": "code",
      "metadata": {
        "id": "iWBTxDXvZUPP",
        "colab": {
          "base_uri": "https://localhost:8080/"
        },
        "outputId": "d0da9176-955e-489f-c1d3-a3794187daff"
      },
      "source": [
        "acumula_media = 0 \n",
        "acima = 0\n",
        "abaixo = 0\n",
        "nota = []\n",
        "for i in range(3):\n",
        "    nota.append(float(input(\"Insira a média do aluno: \")))\n",
        "    acumula_media = acumula_media + nota[i]\n",
        "media_sala = acumula_media / len(nota)\n",
        "\n",
        "for i in range(len(nota)):\n",
        "    if nota[i] >= media_sala:\n",
        "        acima = acima + 1\n",
        "    if nota[i] < media_sala: \n",
        "        abaixo = abaixo + 1\n",
        "\n",
        "print(\"A média da sala é\",media_sala)\n",
        "print(\"São\",acima,\"acima da média.\")\n",
        "print(\"São\",abaixo,\"abaixo da média.\")"
      ],
      "execution_count": null,
      "outputs": [
        {
          "output_type": "stream",
          "name": "stdout",
          "text": [
            "Insira a média do aluno: 10\n",
            "Insira a média do aluno: 6\n",
            "Insira a média do aluno: 8\n",
            "A média da sala é 8.0\n",
            "São 2 acima da média.\n",
            "São 1 abaixo da média.\n"
          ]
        }
      ]
    },
    {
      "cell_type": "markdown",
      "metadata": {
        "id": "frrtYwMAZUcL"
      },
      "source": [
        "### 5. Faça um programa que carregue um vetor de oito elementos numéricos inteiros, calcule e mostre os números pares e suas respectivas índices/posições. Não use nenhuma função pronta da linguagem Python.\n"
      ]
    },
    {
      "cell_type": "code",
      "metadata": {
        "id": "7S8zpor8Z5Hb",
        "colab": {
          "base_uri": "https://localhost:8080/"
        },
        "outputId": "dfcaca2f-3089-493b-e71d-4b3a1f11d026"
      },
      "source": [
        "inteiros = []\n",
        "for i in range(4):\n",
        "    inteiros.append(int(input(\"Insira um número inteiro: \")))\n",
        "    if inteiros[i] % 2 == 0:\n",
        "        print(\"O número\",inteiros[i],\"de posição\",[i])"
      ],
      "execution_count": null,
      "outputs": [
        {
          "output_type": "stream",
          "name": "stdout",
          "text": [
            "Insira um número inteiro: 10\n",
            "O número 10 de posição [0]\n",
            "Insira um número inteiro: 3\n",
            "Insira um número inteiro: 15\n",
            "Insira um número inteiro: 66\n",
            "O número 66 de posição [3]\n"
          ]
        }
      ]
    },
    {
      "cell_type": "markdown",
      "metadata": {
        "id": "cml17HAsZ5Wf"
      },
      "source": [
        "### 6. Faça um programa que carregue um vetor com dez nomes e faça uma verificação se um determinado nome esta nesse vetor. Não use nenhuma função pronta da linguagem Python.\n"
      ]
    },
    {
      "cell_type": "code",
      "metadata": {
        "id": "4R-FGZy4aHNx",
        "colab": {
          "base_uri": "https://localhost:8080/"
        },
        "outputId": "6e90b60c-a7bf-45b5-8b7f-f1296499f16a"
      },
      "source": [
        "nomes = []\n",
        "for i in range(3):\n",
        "    nomes.append(input(\"Digite o \"+ str(i+1)+\"º nome: \"))\n",
        "\n",
        "nome_pesquisar = input(\"Qual nome deseja encontrar? \")\n",
        "cont = 0\n",
        "for i in range( len(nomes)):\n",
        "    if nomes[i] == nome_pesquisar:\n",
        "        print(\"Encontrei.\")\n",
        "    else:\n",
        "        cont = cont + 1\n",
        "if cont == len(nomes):\n",
        "    print(\"Não encontrei.\")"
      ],
      "execution_count": null,
      "outputs": [
        {
          "output_type": "stream",
          "name": "stdout",
          "text": [
            "Digite o 1º nome: Clara\n",
            "Digite o 2º nome: Célia\n",
            "Digite o 3º nome: Alice\n",
            "Qual nome deseja encontrar? Liz\n",
            "Não encontrei.\n"
          ]
        }
      ]
    },
    {
      "cell_type": "code",
      "source": [
        "nomes = []\n",
        "for i in range(3):\n",
        "    nomes.append(input(\"Digite o \"+ str(i+1)+\"º nome: \"))\n",
        "    \n",
        "nome_pesquisar = input(\"Qual nome deseja encontrar? \")\n",
        "\n",
        "resposta = nome_pesquisar in nomes\n",
        "if resposta: # resposta == True\n",
        "    print(\"Encontrei.\")\n",
        "else:\n",
        "    print(\"Não encontrei.\")"
      ],
      "metadata": {
        "colab": {
          "base_uri": "https://localhost:8080/"
        },
        "id": "jsHtGZipk7gT",
        "outputId": "be69f56e-801e-4db1-b850-4970e60dd9b9"
      },
      "execution_count": null,
      "outputs": [
        {
          "output_type": "stream",
          "name": "stdout",
          "text": [
            "Digite o 1º nome: Clara\n",
            "Digite o 2º nome: Lúcia\n",
            "Digite o 3º nome: Helen\n",
            "Qual nome deseja encontrar? Clara\n",
            "Encontrei.\n"
          ]
        }
      ]
    },
    {
      "cell_type": "markdown",
      "metadata": {
        "id": "0BYcEcgYaHbl"
      },
      "source": [
        "### 7. Faça um algoritmo que calcule e apresente a média de alturas superior a 1,80 de 10 alunos. Informe também quantos e quais (índice/posição) são os alunos. Não use nenhuma função pronta da linguagem Python.\n"
      ]
    },
    {
      "cell_type": "code",
      "metadata": {
        "id": "wbXDmo6daU5n",
        "colab": {
          "base_uri": "https://localhost:8080/"
        },
        "outputId": "19b9e70b-b50c-4a08-ca1f-a9b834053b2f"
      },
      "source": [
        "altura = []\n",
        "acumula_altura = 0\n",
        "soma = 0\n",
        "for i in range(4):\n",
        "    altura.append(float(input(\"Insira uma altura: \")))\n",
        "\n",
        "for i in range(4):\n",
        "    if altura[i] > 1.80:\n",
        "        acumula_altura = acumula_altura + 1\n",
        "        soma = soma + altura[i]\n",
        "        print(\"A posição\",i,\"tem um aluno com mais de 1,80 metros.\")\n",
        "media_altura = soma / acumula_altura\n",
        "print(\"A quantidade de alunos com mais de 1,80 é\",acumula_altura)\n",
        "print(f\"A média de altura dos alunos com mais de 1,80 é {media_altura:.2f} metros.\")"
      ],
      "execution_count": null,
      "outputs": [
        {
          "output_type": "stream",
          "name": "stdout",
          "text": [
            "Insira uma altura: 1.90\n",
            "Insira uma altura: 1.65\n",
            "Insira uma altura: 1.84\n",
            "Insira uma altura: 1.79\n",
            "A posição 0 tem um aluno com mais de 1,80 metros.\n",
            "A posição 2 tem um aluno com mais de 1,80 metros.\n",
            "A quantidade de alunos com mais de 1,80 é 2\n",
            "A média de altura dos alunos com mais de 1,80 é 1.87 metros.\n"
          ]
        }
      ]
    },
    {
      "cell_type": "markdown",
      "metadata": {
        "id": "mFaqmOmuaVN2"
      },
      "source": [
        "### 8. Criar um algoritmo que a partir de um vetor de 10 elementos inteiros, crie outros dois vetores que receberão os elementos positivos e negativos e ao final apresente-os. Não use nenhuma função pronta da linguagem Python.\n"
      ]
    },
    {
      "cell_type": "code",
      "metadata": {
        "id": "A6hJ8MIdahuM",
        "colab": {
          "base_uri": "https://localhost:8080/"
        },
        "outputId": "ca3feb46-2104-49b2-d458-3657d7e03e7f"
      },
      "source": [
        "inteiros = []\n",
        "positivos = []\n",
        "negativos = []\n",
        "for i in range(4):\n",
        "    inteiros.append(int(input(\"Insira um número inteiro: \")))\n",
        "    if inteiros[i] >= 0:\n",
        "        positivos.append(inteiros[i])\n",
        "    else:\n",
        "        negativos.append(inteiros[i])\n",
        "print(\"Os números positivos são\", positivos)\n",
        "print(\"Os números negativos são\", negativos)"
      ],
      "execution_count": null,
      "outputs": [
        {
          "output_type": "stream",
          "name": "stdout",
          "text": [
            "Insira um número inteiro: 6\n",
            "Insira um número inteiro: -2\n",
            "Insira um número inteiro: 3\n",
            "Insira um número inteiro: 4\n",
            "Os números positivos são [6, 3, 4]\n",
            "Os números negativos são [-2]\n"
          ]
        }
      ]
    },
    {
      "cell_type": "markdown",
      "metadata": {
        "id": "K5IMhYTHaiEl"
      },
      "source": [
        "### 9. Criar um algoritmo que leia dados para um vetor de 100 elementos inteiros, imprimir o maior, o menor, o percentual de números pares e a média dos elementos do vetor. Obs.: percentual = quantidade contada * 100 / quantidade total. Não use nenhuma função pronta da linguagem Python.\n"
      ]
    },
    {
      "cell_type": "code",
      "metadata": {
        "id": "X6krLAFKaumK",
        "colab": {
          "base_uri": "https://localhost:8080/"
        },
        "outputId": "1bef9065-f759-407d-be81-c5ecebec2180"
      },
      "source": [
        "inteiro = []\n",
        "pares = 0\n",
        "soma = 0\n",
        "for i in range(5):\n",
        "    inteiro.append(int(input(\"Insira um número inteiro: \")))\n",
        "    if i == 0:\n",
        "        maior = inteiro[i]\n",
        "        menor = inteiro[i]\n",
        "    if inteiro[i] >= maior:\n",
        "        maior = inteiro[i]\n",
        "    if inteiro[i] <= menor:\n",
        "        menor = inteiro[i]\n",
        "    if inteiro[i] % 2 == 0:\n",
        "        pares = pares + 1\n",
        "    soma = soma + inteiro[i]\n",
        "pares_percentual = pares * 100 / len(inteiro)\n",
        "media = soma / len(inteiro)\n",
        "\n",
        "print(\"O maior número é:\",maior)\n",
        "print(\"O menor número é:\",menor)\n",
        "print(\"O percentual de pares é:\",pares_percentual,\"%.\")\n",
        "print(\"A média dos números é:\",media)"
      ],
      "execution_count": null,
      "outputs": [
        {
          "output_type": "stream",
          "name": "stdout",
          "text": [
            "Insira um número inteiro: 4\n",
            "Insira um número inteiro: 5\n",
            "Insira um número inteiro: 6\n",
            "Insira um número inteiro: 7\n",
            "Insira um número inteiro: 8\n",
            "O maior número é: 8\n",
            "O menor número é: 4\n",
            "O percentual de pares é: 60.0 %.\n",
            "A média dos números é: 6.0\n"
          ]
        }
      ]
    },
    {
      "cell_type": "markdown",
      "metadata": {
        "id": "X6C3DbCGFR71"
      },
      "source": [
        "### 10. Faça um programa que:\n",
        "\n",
        "* preencha um vetor com seis elementos numéricos inteiros. \n",
        "\n",
        "**Calcule e mostre:**\n",
        "\n",
        "* todos os números pares;\n",
        "* a quantidade de números pares;\n",
        "* todos os números ímpares;\n",
        "* a quantidade de números ímpares"
      ]
    },
    {
      "cell_type": "code",
      "metadata": {
        "id": "0OjTx-RoFZUT",
        "colab": {
          "base_uri": "https://localhost:8080/"
        },
        "outputId": "f427aa01-a895-4759-90d1-10f520814606"
      },
      "source": [
        "inteiros = []\n",
        "par = []\n",
        "impar = []\n",
        "soma_par = 0\n",
        "soma_impar = 0\n",
        "for i in range(6):\n",
        "    inteiros.append(int(input(\"Insira um número inteiro: \")))\n",
        "    if inteiros[i] % 2 == 0:\n",
        "        par.append(inteiros[i])\n",
        "        soma_par = soma_par + 1\n",
        "    else:\n",
        "        impar.append(inteiros[i])\n",
        "        soma_impar = soma_impar + 1\n",
        "\n",
        "print(\"Os números pares são\", par)\n",
        "print(\"Tem\",soma_par,\"números pares.\")\n",
        "print(\"Os números ímpares são\", impar)\n",
        "print(\"Tem\",soma_impar,\"números ímpares.\")"
      ],
      "execution_count": null,
      "outputs": [
        {
          "output_type": "stream",
          "name": "stdout",
          "text": [
            "Insira um número inteiro: 3\n",
            "Insira um número inteiro: 4\n",
            "Insira um número inteiro: 6\n",
            "Insira um número inteiro: -8\n",
            "Insira um número inteiro: -3\n",
            "Insira um número inteiro: 10\n",
            "Os números pares são [4, 6, -8, 10]\n",
            "Tem 4 números pares.\n",
            "Os números ímpares são [3, -3]\n",
            "Tem 2 números ímpares.\n"
          ]
        }
      ]
    },
    {
      "cell_type": "markdown",
      "metadata": {
        "id": "qTCb3GyDFzlm"
      },
      "source": [
        "### 11. Faça um programa que:\n",
        "\n",
        "* preencha um vetor com sete números inteiros\n",
        "\n",
        "**Calcule e mostre:**\n",
        "\n",
        "* os números múltiplos de 2;\n",
        "* os números múltiplos de 3;\n",
        "* os números múltiplos de 2 e de 3."
      ]
    },
    {
      "cell_type": "code",
      "metadata": {
        "id": "OPX_rge2F3kR",
        "colab": {
          "base_uri": "https://localhost:8080/"
        },
        "outputId": "571bb85f-ca6d-45eb-e2ea-444c5aab23fc"
      },
      "source": [
        "inteiros = []\n",
        "for i in range(7):\n",
        "    inteiros.append(int(input(\"Insira um número inteiro: \")))\n",
        "for i in range(len(inteiros)):\n",
        "    if inteiros[i] % 2 == 0 and inteiros[i] % 3 != 0:\n",
        "        print(inteiros[i],\"é múltiplo de 2.\")\n",
        "    if inteiros[i] % 3 == 0 and inteiros[i] % 2 != 0:\n",
        "        print(inteiros[i],\"é múltiplo de 3.\")\n",
        "    if inteiros[i] % 2 == 0 and inteiros[i] % 3 == 0:\n",
        "        print(inteiros[i],\"é múltiplo de 2 e 3.\")"
      ],
      "execution_count": null,
      "outputs": [
        {
          "output_type": "stream",
          "name": "stdout",
          "text": [
            "Insira um número inteiro: 9\n",
            "Insira um número inteiro: 5\n",
            "Insira um número inteiro: 4\n",
            "Insira um número inteiro: 3\n",
            "Insira um número inteiro: 6\n",
            "Insira um número inteiro: 1\n",
            "Insira um número inteiro: 2\n",
            "9 é múltiplo de 3.\n",
            "4 é múltiplo de 2.\n",
            "3 é múltiplo de 3.\n",
            "6 é múltiplo de 2 e 3.\n",
            "2 é múltiplo de 2.\n"
          ]
        }
      ]
    },
    {
      "cell_type": "markdown",
      "metadata": {
        "id": "sf4dSTh-F3wV"
      },
      "source": [
        "### 12. Faça um programa que:\n",
        "\n",
        "* preencha um vetor com quinze elementos inteiros\n",
        "* verifique a existência de elementos iguais a 30, mostrando os índices/posições em que apareceram."
      ]
    },
    {
      "cell_type": "code",
      "metadata": {
        "id": "pV6slXVYF8Fm",
        "colab": {
          "base_uri": "https://localhost:8080/"
        },
        "outputId": "dead36a1-bd0a-47f4-cc56-809220104559"
      },
      "source": [
        "inteiros = []\n",
        "for i in range(5):\n",
        "    inteiros.append(int(input(\"Insira um número inteiro: \")))\n",
        "    if inteiros[i] == 30:\n",
        "        print(\"O número 30 está na posição\",[i])"
      ],
      "execution_count": null,
      "outputs": [
        {
          "name": "stdout",
          "output_type": "stream",
          "text": [
            "Insira um número inteiro: 60\n",
            "Insira um número inteiro: 10\n",
            "Insira um número inteiro: 30\n",
            "O número 30 está na posição 2\n",
            "Insira um número inteiro: 20\n",
            "Insira um número inteiro: 40\n"
          ]
        }
      ]
    },
    {
      "cell_type": "markdown",
      "metadata": {
        "id": "9UnrFcvfF8VU"
      },
      "source": [
        "### 13. Faça um programa que:\n",
        "\n",
        "* preencha um vetor com dez números reais\n",
        "\n",
        "**Calcule e mostre:**\n",
        "\n",
        "* a quantidade de números negativos\n",
        "* a soma dos números positivos desse *vetor*\n",
        "* não use nenhuma função pronta da linguagem Python"
      ]
    },
    {
      "cell_type": "code",
      "metadata": {
        "id": "x4hGToRMM6q8",
        "colab": {
          "base_uri": "https://localhost:8080/"
        },
        "outputId": "84e848da-55a6-471a-c652-a51c9f9ab596"
      },
      "source": [
        "reais = []\n",
        "soma = 0\n",
        "qtd = 0\n",
        "for i in range(5):\n",
        "    reais.append(float(input(\"Insira um número real: \")))\n",
        "    if reais[i] >= 0:\n",
        "        soma = soma + reais[i]\n",
        "    else:\n",
        "        qtd = qtd + 1\n",
        "print(\"A soma dos números positivos desse vetor é\",soma)\n",
        "print(\"A quantidade de números negativos é\",qtd)"
      ],
      "execution_count": null,
      "outputs": [
        {
          "output_type": "stream",
          "name": "stdout",
          "text": [
            "Insira um número real: 12\n",
            "Insira um número real: -15\n",
            "Insira um número real: 13\n",
            "Insira um número real: 16\n",
            "Insira um número real: -13\n",
            "A soma dos números positivos desse vetor é 41.0\n",
            "A quantidade de números negativos é 2\n"
          ]
        }
      ]
    },
    {
      "cell_type": "markdown",
      "metadata": {
        "id": "h08bQeSEM62n"
      },
      "source": [
        "### 14. Faça um programa que:\n",
        "\n",
        "* receba dez números inteiros e armazene-os em um vetor\n",
        "* classifique os números em dois vetores, um com números pares e o outra com os ímpares\n",
        "* não use nenhuma função pronta da linguagem Python"
      ]
    },
    {
      "cell_type": "code",
      "metadata": {
        "id": "5Ch4maMCM-hg",
        "colab": {
          "base_uri": "https://localhost:8080/"
        },
        "outputId": "89ef80f2-d18b-40d2-fad5-4439fd9d3233"
      },
      "source": [
        "inteiros = []\n",
        "par = []\n",
        "impar = []\n",
        "for i in range(5):\n",
        "    inteiros.append(int(input(\"Insira um número inteiro: \")))\n",
        "    if inteiros[i] % 2 == 0:\n",
        "        par.append(inteiros[i])\n",
        "    else:\n",
        "        impar.append(inteiros[i])\n",
        "print(\"Os números pares são\", par)\n",
        "print(\"Os números ímpares são\", impar)"
      ],
      "execution_count": null,
      "outputs": [
        {
          "output_type": "stream",
          "name": "stdout",
          "text": [
            "Insira um número inteiro: 6\n",
            "Insira um número inteiro: 5\n",
            "Insira um número inteiro: 4\n",
            "Insira um número inteiro: 2\n",
            "Insira um número inteiro: 1\n",
            "Os números pares são [6, 4, 2]\n",
            "Os números ímpares são [5, 1]\n"
          ]
        }
      ]
    },
    {
      "cell_type": "markdown",
      "metadata": {
        "id": "Lzqh-l1JNNTr"
      },
      "source": [
        "### 15. Faça um programa que:\n",
        "\n",
        "* preencha um vetor com quinze números\n",
        "\n",
        "**Determine e mostre:**\n",
        "\n",
        "* o maior número e a posição por ele ocupada no vetor\n",
        "* o menor número e a posição por ele ocupada no vetor\n",
        "* Não use nenhuma função pronta da linguagem Python"
      ]
    },
    {
      "cell_type": "code",
      "metadata": {
        "id": "J-jy56awNIb4",
        "colab": {
          "base_uri": "https://localhost:8080/"
        },
        "outputId": "3cbac101-c314-4d5e-f864-242f64f41da1"
      },
      "source": [
        "num = []\n",
        "for i in range(5):\n",
        "    num.append(float(input(\"Insira um número qualquer: \")))\n",
        "    if i == 0:\n",
        "        maior = num[i]\n",
        "        menor = num[i]\n",
        "    if num[i] >= maior:\n",
        "        maior = num[i]\n",
        "    if num[i] <= menor:\n",
        "        menor = num[i]\n",
        "print(\"O maior número é\",maior,\"e está na posição\",i)\n",
        "print(\"O menor número é\",menor,\"e está na posição\",i)"
      ],
      "execution_count": null,
      "outputs": [
        {
          "output_type": "stream",
          "name": "stdout",
          "text": [
            "Insira um número qualquer: 4\n",
            "Insira um número qualquer: 7\n",
            "Insira um número qualquer: 6\n",
            "Insira um número qualquer: 2\n",
            "Insira um número qualquer: 3\n",
            "O maior número é 7.0 e está na posição 4\n",
            "O menor número é 2.0 e está na posição 4\n"
          ]
        }
      ]
    },
    {
      "cell_type": "markdown",
      "metadata": {
        "id": "HmWgU1x2FaAP"
      },
      "source": [
        "#**EXERCÍCIOS - EXTRA**"
      ]
    },
    {
      "cell_type": "markdown",
      "metadata": {
        "id": "CwrnVAqjNIqA"
      },
      "source": [
        "### 16. Faça um programa que:\n",
        "\n",
        "* preencha dois vetores com de dez numeros cada\n",
        "* preencha um terceiro vetor com os números dos dois vetores anteriores ordenados em ordem crescente\n"
      ]
    },
    {
      "cell_type": "code",
      "metadata": {
        "id": "JG4VQSZ0NNGP"
      },
      "source": [
        "# Digite seu código aqui."
      ],
      "execution_count": null,
      "outputs": []
    },
    {
      "cell_type": "markdown",
      "metadata": {
        "id": "HkiTq5lrNSnY"
      },
      "source": [
        "### 17. Faça um programa que:\n",
        "\n",
        "* carregue dois vetores com 10 números cada\n",
        "* faça a multiplicação dos números na mesma posição\n",
        "* o resultado deverá ser adicionada em um terceiro vetor\n",
        "* não use nenhuma função pronta da linguagem Python"
      ]
    },
    {
      "cell_type": "code",
      "metadata": {
        "id": "F1bta73yNXRe"
      },
      "source": [
        "# Digite seu código aqui.\n",
        "a = [ 8, 6, 3, 5]\n",
        "b = [ 3, 2, 8, 1]\n",
        "c = [8*3, 6*2,]"
      ],
      "execution_count": null,
      "outputs": []
    },
    {
      "cell_type": "markdown",
      "metadata": {
        "id": "ZAel4hPSNXdC"
      },
      "source": [
        "### 18. Faça um programa que:\n",
        "\n",
        "* leia um vetor de 10 números inteiros\n",
        "* exiba na tela os números positivos e seus respectivos índices.\n",
        "* não use nenhuma função pronta da linguagem Python"
      ]
    },
    {
      "cell_type": "code",
      "metadata": {
        "id": "Wn-sojioNb99"
      },
      "source": [
        "# Digite seu código aqui."
      ],
      "execution_count": null,
      "outputs": []
    },
    {
      "cell_type": "markdown",
      "metadata": {
        "id": "IErlUNBBNcKh"
      },
      "source": [
        "### 19. Faça um programa que:\n",
        "\n",
        "* insira dez números inteiros em um vetor\n",
        "* crie um segundo vetor, substituindo os números multiplos de 3 por \"999\"\"\n",
        "* exiba os dois vetores\n",
        "* não use nenhuma função pronta da linguagem Python"
      ]
    },
    {
      "cell_type": "code",
      "metadata": {
        "id": "ABkUHan9NiRV"
      },
      "source": [
        "# Digite seu código aqui."
      ],
      "execution_count": null,
      "outputs": []
    },
    {
      "cell_type": "markdown",
      "metadata": {
        "id": "ZtxMl1r8NnV7"
      },
      "source": [
        "### 21. Faça um programa que:\n",
        "\n",
        "* leia dois vetores (A e B) com cinco posições para números inteiros.\n",
        "* o programa deve, então, subtrair o primeiro elemento de A do último de B, armazenando o resultado num terceiro vetor, subtrair o segundo elemento de A do penúltimo de B, armazenando o resultado num terceiro vetor e assim por diante. \n",
        "* ao final, mostre o resultado do terceiro vetor\n",
        "* não use nenhuma função pronta da linguagem Python"
      ]
    },
    {
      "cell_type": "code",
      "metadata": {
        "id": "TPVdojenNq37"
      },
      "source": [
        "# Digite seu código aqui."
      ],
      "execution_count": null,
      "outputs": []
    },
    {
      "cell_type": "markdown",
      "metadata": {
        "id": "ASOIKJD7M-vh"
      },
      "source": [
        "###22. Faça um programa que:\n",
        "\n",
        "* preencha um vetor de cinco números e mostre a saída a seguir:\n",
        "* imprima a seguinte saída: n1 + n2 + n3 + n4 + n5 = soma_dos_numeros, exemplo 8 + 2 + 1 + 3 + 0 = 14\n",
        "* não use nenhuma função pronta da linguagem Python\n"
      ]
    },
    {
      "cell_type": "code",
      "metadata": {
        "id": "hyDhAbwPNuhK"
      },
      "source": [
        "# Digite seu código aqui."
      ],
      "execution_count": null,
      "outputs": []
    },
    {
      "cell_type": "markdown",
      "metadata": {
        "id": "D6GVJmfhNusA"
      },
      "source": [
        "### 23. Faça um programa que:\n",
        "* leia um vetor com quinze posições para números inteiros.\n",
        "* depois da leitura, divida todos os seus elementos pelo maior valor do vetor.\n",
        "* Mostre o vetor após os cálculos.\n",
        "* não use nenhuma função pronta da linguagem Python"
      ]
    },
    {
      "cell_type": "code",
      "metadata": {
        "id": "zto4otPkgPRV"
      },
      "source": [
        "# Digite seu código aqui."
      ],
      "execution_count": null,
      "outputs": []
    },
    {
      "cell_type": "markdown",
      "metadata": {
        "id": "Hwgks80Tawon"
      },
      "source": [
        "### 24. Um vetor é palíndromo se ele não se alterar quando o mesmo for invertido. Escreva um programa que verifique se um vetor é palíndromo, fazendo comparação de índice/posição por índice/posição do vetor original (vo) com o vetor invertido (vi). Não use nenhuma função pronta da linguagem Python. A tamanho do vetor pode ser da sua escolha.\n",
        "Exemplo:\n",
        "vetor original    vo = {1, 3, 5, 2, 2, 5, 3, 1}  \n",
        "vetor invertido é vi = {1, 3, 5, 2, 2, 5, 3, 1}\n",
        "O vetor invertido **é palíndromo**, pois ele invertido é igual ao original\n",
        "\n",
        "vetor original    vo = {9, 7, 5, 2, 4, 5, 3, 6}  \n",
        "vetor invertido é vi = {6, 3, 5, 4, 2, 5, 7, 9}\n",
        "O vetor invertido **não é palíndromo**, pois ele invertido é igual ao original\n",
        "\n"
      ]
    },
    {
      "cell_type": "code",
      "metadata": {
        "id": "ua4_aIrbN0rO"
      },
      "source": [
        "# Digite seu código aqui."
      ],
      "execution_count": null,
      "outputs": []
    }
  ]
}