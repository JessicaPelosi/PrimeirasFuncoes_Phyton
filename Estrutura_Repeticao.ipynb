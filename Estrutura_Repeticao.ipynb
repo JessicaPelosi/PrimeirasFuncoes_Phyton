{
  "nbformat": 4,
  "nbformat_minor": 0,
  "metadata": {
    "colab": {
      "provenance": [],
      "include_colab_link": true
    },
    "kernelspec": {
      "name": "python3",
      "display_name": "Python 3"
    }
  },
  "cells": [
    {
      "cell_type": "markdown",
      "metadata": {
        "id": "view-in-github",
        "colab_type": "text"
      },
      "source": [
        "<a href=\"https://colab.research.google.com/github/JessicaPelosi/PrimeirasFuncoes_Phyton/blob/main/Estrutura_Repeticao.ipynb\" target=\"_parent\"><img src=\"https://colab.research.google.com/assets/colab-badge.svg\" alt=\"Open In Colab\"/></a>"
      ]
    },
    {
      "cell_type": "markdown",
      "metadata": {
        "id": "TWJjhvldsGq1"
      },
      "source": [
        "#ESTRUTURA DE REPETIÇÃO\n",
        "##Todos estes algoritmos/programas podem ser implementados com o comando **while** ou **for**. Para estudar, implemente cada exercício com as **duas** estruturas de repetição."
      ]
    },
    {
      "cell_type": "markdown",
      "metadata": {
        "id": "ra2ortoj88ct"
      },
      "source": [
        "###1. Faça um algoritmo  que mostre 10 vezes a frase “Bem vindo a Fatec!”. Pode implementar com o comando while ou for."
      ]
    },
    {
      "cell_type": "code",
      "metadata": {
        "id": "w87cAtUi9P5j",
        "colab": {
          "base_uri": "https://localhost:8080/"
        },
        "outputId": "39a10c3f-f302-4e15-ed9a-10c91a7e2ba4"
      },
      "source": [
        "print(\"Exemplo do while......\")\n",
        "#inicialização\n",
        "contador = 1\n",
        "#condição/critério de parada\n",
        "while contador <= 10:\n",
        "    print(contador, \"Bem vindo a Fatec!\")\n",
        "    #incremento\n",
        "    contador = contador + 1\n",
        "\n",
        "\n",
        "\n",
        "print(\"\\n\\nExeplo do for......\")\n",
        "for contador in range (1,11):\n",
        "    print(contador, \"Bem vindo a Fatec!\")"
      ],
      "execution_count": null,
      "outputs": [
        {
          "output_type": "stream",
          "name": "stdout",
          "text": [
            "Exemplo do while......\n",
            "1 Bem vindo a Fatec!\n",
            "2 Bem vindo a Fatec!\n",
            "3 Bem vindo a Fatec!\n",
            "4 Bem vindo a Fatec!\n",
            "5 Bem vindo a Fatec!\n",
            "6 Bem vindo a Fatec!\n",
            "7 Bem vindo a Fatec!\n",
            "8 Bem vindo a Fatec!\n",
            "9 Bem vindo a Fatec!\n",
            "10 Bem vindo a Fatec!\n",
            "\n",
            "\n",
            "Exeplo do for......\n",
            "1 Bem vindo a Fatec!\n",
            "2 Bem vindo a Fatec!\n",
            "3 Bem vindo a Fatec!\n",
            "4 Bem vindo a Fatec!\n",
            "5 Bem vindo a Fatec!\n",
            "6 Bem vindo a Fatec!\n",
            "7 Bem vindo a Fatec!\n",
            "8 Bem vindo a Fatec!\n",
            "9 Bem vindo a Fatec!\n",
            "10 Bem vindo a Fatec!\n"
          ]
        }
      ]
    },
    {
      "cell_type": "markdown",
      "metadata": {
        "id": "Tz26_Q_09QzZ"
      },
      "source": [
        "###2. Faça um algoritmo que mostre o cumprimento ‘Olá ‘ para o nome de alguém (4 pessoas). Exemplo ‘Olá Mariana’. Pode implementar com o comando while ou for.\n",
        " "
      ]
    },
    {
      "cell_type": "code",
      "metadata": {
        "id": "EK8e5Oxn9eFX",
        "colab": {
          "base_uri": "https://localhost:8080/"
        },
        "outputId": "e3141d39-67dc-4476-ca86-4327196348c5"
      },
      "source": [
        "print(\"Exemplo do while.....\")\n",
        "#inicialização\n",
        "contador = 0\n",
        "#condição/critério de parada\n",
        "while contador < 4:\n",
        "    nome = input(\"Informe o nome: \")\n",
        "    print(\"Olá\", nome)\n",
        "    #incremento\n",
        "    contador = contador +1"
      ],
      "execution_count": null,
      "outputs": [
        {
          "output_type": "stream",
          "name": "stdout",
          "text": [
            "Exemplo do while.....\n",
            "Informe o nome: Jéssica\n",
            "Olá Jéssica\n",
            "Informe o nome: Julia\n",
            "Olá Julia\n",
            "Informe o nome: Juliana\n",
            "Olá Juliana\n",
            "Informe o nome: Patricia\n",
            "Olá Patricia\n"
          ]
        }
      ]
    },
    {
      "cell_type": "code",
      "source": [
        "print(\"\\n\\nExeplo do for......\")\n",
        "for abobrinha in range (5):\n",
        "    nome = input(\"Informe o nome: \")\n",
        "    print(\"Olá\", nome)"
      ],
      "metadata": {
        "colab": {
          "base_uri": "https://localhost:8080/"
        },
        "id": "eoOWDxd2aI6X",
        "outputId": "c6b90f49-7955-40ee-f10d-1eceba74f349"
      },
      "execution_count": null,
      "outputs": [
        {
          "output_type": "stream",
          "name": "stdout",
          "text": [
            "\n",
            "\n",
            "Exeplo do for......\n",
            "Informe o nome: Jéssica\n",
            "Olá Jéssica\n",
            "Informe o nome: Juliana\n",
            "Olá Juliana\n",
            "Informe o nome: Julia\n",
            "Olá Julia\n",
            "Informe o nome: Patricia\n",
            "Olá Patricia\n",
            "Informe o nome: Edvaldo\n",
            "Olá Edvaldo\n"
          ]
        }
      ]
    },
    {
      "cell_type": "markdown",
      "metadata": {
        "id": "-tIGmOam9eaB"
      },
      "source": [
        "###3. Faça um algoritmo que mostre os valores de 0 a 15. Pode implementar com o comando while ou for.\n"
      ]
    },
    {
      "cell_type": "code",
      "metadata": {
        "id": "PVFy9VEE9jy9",
        "colab": {
          "base_uri": "https://localhost:8080/"
        },
        "outputId": "7692b36a-e6ff-4f4a-a622-7b993e710a8b"
      },
      "source": [
        "for contador in range (0,16):\n",
        "    print('Contador' ,contador)"
      ],
      "execution_count": null,
      "outputs": [
        {
          "output_type": "stream",
          "name": "stdout",
          "text": [
            "Contador 0\n",
            "Contador 1\n",
            "Contador 2\n",
            "Contador 3\n",
            "Contador 4\n",
            "Contador 5\n",
            "Contador 6\n",
            "Contador 7\n",
            "Contador 8\n",
            "Contador 9\n",
            "Contador 10\n",
            "Contador 11\n",
            "Contador 12\n",
            "Contador 13\n",
            "Contador 14\n",
            "Contador 15\n"
          ]
        }
      ]
    },
    {
      "cell_type": "markdown",
      "metadata": {
        "id": "n2GgpaGP9j-A"
      },
      "source": [
        "###4. Faça um algoritmo que mostre os valores de 3 a 20. Pode implementar com o comando while ou for.\n"
      ]
    },
    {
      "cell_type": "code",
      "metadata": {
        "id": "lqitidIO9rOm",
        "colab": {
          "base_uri": "https://localhost:8080/"
        },
        "outputId": "d56debd1-550e-46de-ed99-9f9cb06214b3"
      },
      "source": [
        "for contador in range (3,21):\n",
        "    print('Contador' ,contador)"
      ],
      "execution_count": null,
      "outputs": [
        {
          "output_type": "stream",
          "name": "stdout",
          "text": [
            "Contador 3\n",
            "Contador 4\n",
            "Contador 5\n",
            "Contador 6\n",
            "Contador 7\n",
            "Contador 8\n",
            "Contador 9\n",
            "Contador 10\n",
            "Contador 11\n",
            "Contador 12\n",
            "Contador 13\n",
            "Contador 14\n",
            "Contador 15\n",
            "Contador 16\n",
            "Contador 17\n",
            "Contador 18\n",
            "Contador 19\n",
            "Contador 20\n"
          ]
        }
      ]
    },
    {
      "cell_type": "markdown",
      "metadata": {
        "id": "C8RRCFc_9sTL"
      },
      "source": [
        "###5. Faça um algoritmo que calcule e mostre a tabuada do 5. Pode implementar com o comando while ou for.\n"
      ]
    },
    {
      "cell_type": "code",
      "metadata": {
        "id": "4QBLg1ka91dV",
        "colab": {
          "base_uri": "https://localhost:8080/"
        },
        "outputId": "cd70104a-a597-4d9c-cf4a-2c777bd656a4"
      },
      "source": [
        "for cont in range(1,11):\n",
        "        print(5, \"x\", cont,\" = \",5 * cont)"
      ],
      "execution_count": null,
      "outputs": [
        {
          "output_type": "stream",
          "name": "stdout",
          "text": [
            "5 x 1  =  5\n",
            "5 x 2  =  10\n",
            "5 x 3  =  15\n",
            "5 x 4  =  20\n",
            "5 x 5  =  25\n",
            "5 x 6  =  30\n",
            "5 x 7  =  35\n",
            "5 x 8  =  40\n",
            "5 x 9  =  45\n",
            "5 x 10  =  50\n"
          ]
        }
      ]
    },
    {
      "cell_type": "markdown",
      "metadata": {
        "id": "nJv5jBoq91tW"
      },
      "source": [
        "###6. Faça um algoritmo que receba a idade de 10 pessoas, calcule e exiba a quantidade de pessoas maiores de idade, sendo que a maioridade é obtida após completar 18 anos. Pode implementar com o comando while ou for.\n"
      ]
    },
    {
      "cell_type": "code",
      "metadata": {
        "id": "FXOsNMt_96QH",
        "colab": {
          "base_uri": "https://localhost:8080/"
        },
        "outputId": "cf6e33bc-7e1d-4e3f-fc51-8b8b21058e4c"
      },
      "source": [
        "contador = 0\n",
        "maiores = 0\n",
        "for contador in range(10):\n",
        "    idade = int(input(\"Insira a idade: \"))\n",
        "    if idade > 18:\n",
        "        maiores = maiores + 1\n",
        "print(\"A quantidade de pessoas maiores de idade são\", maiores) "
      ],
      "execution_count": null,
      "outputs": [
        {
          "output_type": "stream",
          "name": "stdout",
          "text": [
            "Insira a idade: 12\n",
            "Insira a idade: 45\n",
            "Insira a idade: 21\n",
            "Insira a idade: 54\n",
            "Insira a idade: 32\n",
            "Insira a idade: 23\n",
            "Insira a idade: 1\n",
            "Insira a idade: 5\n",
            "Insira a idade: 6\n",
            "Insira a idade: 55\n",
            "A quantidade de pessoas maiores de idade são 6\n"
          ]
        }
      ]
    },
    {
      "cell_type": "markdown",
      "metadata": {
        "id": "g5RA7KN896ep"
      },
      "source": [
        "###7. Escreva um algoritmo que receba 23 números, calcule e exiba a quantidade de números pares e impares. Pode implementar com o comando while ou for.\n"
      ]
    },
    {
      "cell_type": "code",
      "metadata": {
        "id": "JBnJiugI9_Q1",
        "colab": {
          "base_uri": "https://localhost:8080/"
        },
        "outputId": "5b7e433e-57d1-40f0-da2a-fd4821c375f4"
      },
      "source": [
        "contador = 0\n",
        "qtde_pares = 0\n",
        "qtde_impares = 0\n",
        "while contador < 4:\n",
        "    n = int(input('Informe o número: '))\n",
        "    if n % 2 == 0:\n",
        "        qtde_pares = qtde_pares + 1\n",
        "    else:\n",
        "        qtde_impares = qtde_impares + 1 \n",
        "         \n",
        "    contador += 1 #incremento\n",
        "print('Quantidade de números pares',qtde_pares)\n",
        "print('Quantidade de números ímpares',qtde_impares)"
      ],
      "execution_count": null,
      "outputs": [
        {
          "output_type": "stream",
          "name": "stdout",
          "text": [
            "Informe o número: 9\n",
            "Informe o número: 2\n",
            "Informe o número: 7\n",
            "Informe o número: 6\n",
            "Quantidade de números pares 2\n",
            "Quantidade de números ímpares 2\n"
          ]
        }
      ]
    },
    {
      "cell_type": "code",
      "source": [
        "contador = 0\n",
        "qtde_pares = 0\n",
        "qtde_impares = 0\n",
        "for contador in range(4):\n",
        "    n = int(input('Informe o número: '))\n",
        "    if n % 2 == 0:\n",
        "        qtde_pares = qtde_pares + 1\n",
        "    else:\n",
        "        qtde_impares = qtde_impares + 1 \n",
        "\n",
        "print('Quantidade de números pares',qtde_pares)\n",
        "print('Quantidade de números ímpares',qtde_impares)"
      ],
      "metadata": {
        "colab": {
          "base_uri": "https://localhost:8080/"
        },
        "id": "6cB_9S7ndElU",
        "outputId": "dace805d-a169-45d3-89d7-930dc6e3cfa1"
      },
      "execution_count": null,
      "outputs": [
        {
          "output_type": "stream",
          "name": "stdout",
          "text": [
            "Informe o número: 5\n",
            "Informe o número: 2\n",
            "Informe o número: 5\n",
            "Informe o número: 7\n",
            "Quantidade de números pares 1\n",
            "Quantidade de números ímpares 3\n"
          ]
        }
      ]
    },
    {
      "cell_type": "markdown",
      "metadata": {
        "id": "DVuRwa6J9_in"
      },
      "source": [
        "###8. Faça um algoritmo que calcule e exiba o salário reajustado de dez funcionários de acordo com a seguinte regra (pode implementar com o comando while ou for): \n",
        "## Salário até 300, reajuste de 50%; \n",
        "\n",
        "##Salários maiores que 300, reajuste de 30%.\n",
        "\n",
        "\n"
      ]
    },
    {
      "cell_type": "code",
      "metadata": {
        "id": "GnYXpwwH-Drd",
        "colab": {
          "base_uri": "https://localhost:8080/"
        },
        "outputId": "7de2d9be-3b45-40d0-a206-6f71bd623969"
      },
      "source": [
        "for salario in range(10):\n",
        "    salario = float(input(\"Digite o salário: \"))\n",
        "    if salario <= 300:\n",
        "        reajuste1 = salario + salario * (50 / 100)\n",
        "        print(\"O salário reajustado é de\", reajuste1)\n",
        "    else:\n",
        "        reajuste2 = salario + salario * (30 / 100)\n",
        "        print(\"O salário reajustado é de\", reajuste2,)    \n"
      ],
      "execution_count": null,
      "outputs": [
        {
          "output_type": "stream",
          "name": "stdout",
          "text": [
            "Digite o salário: 300\n",
            "O salário reajustado é de 450.0\n",
            "Digite o salário: 250\n",
            "O salário reajustado é de 375.0\n",
            "Digite o salário: 800\n",
            "O salário reajustado é de 1040.0\n",
            "Digite o salário: 4\n",
            "O salário reajustado é de 6.0\n",
            "Digite o salário: 900\n",
            "O salário reajustado é de 1170.0\n",
            "Digite o salário: 6415\n",
            "O salário reajustado é de 8339.5\n",
            "Digite o salário: 659\n",
            "O salário reajustado é de 856.7\n",
            "Digite o salário: 5489\n",
            "O salário reajustado é de 7135.7\n",
            "Digite o salário: 54\n",
            "O salário reajustado é de 81.0\n",
            "Digite o salário: 574\n",
            "O salário reajustado é de 746.2\n"
          ]
        }
      ]
    },
    {
      "cell_type": "markdown",
      "metadata": {
        "id": "WWEunLW8-D2h"
      },
      "source": [
        "\n",
        "###9. Faça um algoritmo que conheça 4 preços de produtos, some-os e mostre o resultado. Pode implementar com o comando while ou for.\n"
      ]
    },
    {
      "cell_type": "code",
      "metadata": {
        "id": "N9cUIxJk-HLg",
        "colab": {
          "base_uri": "https://localhost:8080/"
        },
        "outputId": "cb390341-4185-4239-e9f5-9b9684529179"
      },
      "source": [
        "cont = 0\n",
        "soma = 0\n",
        "for cont in range(4):\n",
        "    preco = float(input(\"Insira o preço: \"))\n",
        "    soma = soma + preco\n",
        "    cont = cont + 1\n",
        "print(\"A soma dos produtos é\", soma)"
      ],
      "execution_count": null,
      "outputs": [
        {
          "output_type": "stream",
          "name": "stdout",
          "text": [
            "Insira o preço: 5\n",
            "Insira o preço: 5\n",
            "Insira o preço: 5\n",
            "Insira o preço: 5\n",
            "A soma dos produtos é 20.0\n"
          ]
        }
      ]
    },
    {
      "cell_type": "markdown",
      "metadata": {
        "id": "rf_lUW8J-HbR"
      },
      "source": [
        "###10. Faça um algoritmo que calcule e informe a média de idades de 5 alunos. Pode implementar com o comando while ou for."
      ]
    },
    {
      "cell_type": "code",
      "metadata": {
        "id": "kIGzHgii-Teb",
        "colab": {
          "base_uri": "https://localhost:8080/"
        },
        "outputId": "4be4bd81-6a89-4249-d394-bd3bd241fd01"
      },
      "source": [
        "alunos = 0\n",
        "soma = 0\n",
        "cont = 0\n",
        "for alunos in range(5):\n",
        "    idade = int(input(\"Insira a idade: \"))\n",
        "    soma = soma + idade\n",
        "    cont = cont + 1\n",
        "media = soma / cont\n",
        "print(\"A média de idade dos alunos é\", media)  "
      ],
      "execution_count": null,
      "outputs": [
        {
          "output_type": "stream",
          "name": "stdout",
          "text": [
            "Insira a idade: 4\n",
            "Insira a idade: 9\n",
            "Insira a idade: 1\n",
            "Insira a idade: 2\n",
            "Insira a idade: 5\n",
            "A média de idade dos alunos é 4.2\n"
          ]
        }
      ]
    },
    {
      "cell_type": "markdown",
      "metadata": {
        "id": "cTQOtgv8-TqZ"
      },
      "source": [
        "###11. Faça um algoritmo que conheça 4 preços de produtos, calcule e mostre a média aritmética dos preços. Pode implementar com o comando while ou for.\n"
      ]
    },
    {
      "cell_type": "code",
      "metadata": {
        "id": "1jGiDIq--XfE",
        "colab": {
          "base_uri": "https://localhost:8080/"
        },
        "outputId": "42e07d0f-c487-419c-a98f-ca2f40befc53"
      },
      "source": [
        "cont = 0\n",
        "soma = 0\n",
        "for cont in range(4):\n",
        "    preco = float(input(\"Insira o preço: \"))\n",
        "    soma = soma + preco\n",
        "    cont = cont + 1\n",
        "media = soma / cont\n",
        "print(\"A média dos produtos é\", media)"
      ],
      "execution_count": null,
      "outputs": [
        {
          "output_type": "stream",
          "name": "stdout",
          "text": [
            "Insira o preço: 25.99\n",
            "Insira o preço: 36.23\n",
            "Insira o preço: 59.44\n",
            "Insira o preço: 12.36\n",
            "A média dos produtos é 33.504999999999995\n"
          ]
        }
      ]
    },
    {
      "cell_type": "markdown",
      "source": [
        "###12. Faça um programa que receba a idade e a altura de 20 pessoas. Calcule e exiba a média das alturas das pessoas com mais de 20 anos.\n",
        "\n",
        "\n"
      ],
      "metadata": {
        "id": "q2aJm6ktRIKX"
      }
    },
    {
      "cell_type": "code",
      "source": [
        "cont = 0 #contador da estrutura de repetição \n",
        "cont20 = 0 #contador da pessoas com mais de 20 anos\n",
        "soma_alturas = 0\n",
        "while cont < 4:\n",
        "    idade = int(input(\"Informe a idade: \"))\n",
        "    altura = float(input(\"Informe a altura: \"))\n",
        "    if idade > 20:\n",
        "        soma_alturas = soma_alturas + altura\n",
        "        cont20 = cont20 + 1\n",
        "    cont = cont + 1 #incremento\n",
        "media = soma_alturas / cont20\n",
        "print(\"Valor do cont\", cont)\n",
        "print(f\"Média de alturas {media:.2f} metros\")    "
      ],
      "metadata": {
        "id": "BrL7c0SiReMX",
        "colab": {
          "base_uri": "https://localhost:8080/"
        },
        "outputId": "d8a37bba-9c47-4aad-8488-a894a00a9d91"
      },
      "execution_count": null,
      "outputs": [
        {
          "output_type": "stream",
          "name": "stdout",
          "text": [
            "Informe a idade: 27\n",
            "Informe a altura: 1.80\n",
            "Informe a idade: 18\n",
            "Informe a altura: 1.72\n",
            "Informe a idade: 25\n",
            "Informe a altura: 1.65\n",
            "Informe a idade: 22\n",
            "Informe a altura: 1.68\n",
            "Valor do cont 4\n",
            "Média de alturas 1.71 metros\n"
          ]
        }
      ]
    },
    {
      "cell_type": "code",
      "source": [
        "cont20 = 0 #contador da pessoas com mais de 20 anos\n",
        "soma_alturas = 0\n",
        "for cont in range(4):\n",
        "    idade = int(input(\"Informe a idade: \"))\n",
        "    altura = float(input(\"Informe a altura: \"))\n",
        "    if idade > 20:\n",
        "        soma_alturas = soma_alturas + altura\n",
        "        cont20 = cont20 + 1\n",
        "print(\"Valor do cont\", cont)\n",
        "media = soma_alturas / cont20\n",
        "print(f\"Média de alturas {media:.2f} metros\")"
      ],
      "metadata": {
        "colab": {
          "base_uri": "https://localhost:8080/"
        },
        "id": "vJ3gQIANBRqy",
        "outputId": "58aa1d5f-1055-466c-9ae1-0163a1bb8392"
      },
      "execution_count": null,
      "outputs": [
        {
          "output_type": "stream",
          "name": "stdout",
          "text": [
            "Informe a idade: 27\n",
            "Informe a altura: 1.8\n",
            "Informe a idade: 18\n",
            "Informe a altura: 1.72\n",
            "Informe a idade: 25\n",
            "Informe a altura: 1.65\n",
            "Informe a idade: 22\n",
            "Informe a altura: 1.68\n",
            "Valor do cont 3\n",
            "Média de alturas 1.71 metros\n"
          ]
        }
      ]
    },
    {
      "cell_type": "markdown",
      "metadata": {
        "id": "aI4IjOYw-XwG"
      },
      "source": [
        "###13. Faça um algoritmo que leia o preço de 20 TV, determine e apresente a média dos preços que possuem valor maior que R$ 1000. Pode implementar com o comando while ou for."
      ]
    },
    {
      "cell_type": "code",
      "source": [
        "cont = 0\n",
        "soma_preco = 0\n",
        "for tv in range(0,4):\n",
        "    preco = float(input(\"Insira o preço da TV: \"))\n",
        "    if preco > 1000:\n",
        "        soma_preco = soma_preco + preco\n",
        "        cont = cont + 1\n",
        "media = soma_preco / cont\n",
        "print(f\"A média de preço das TVs é R${media:.2f}\")"
      ],
      "metadata": {
        "id": "0YxUWj8KQriq",
        "colab": {
          "base_uri": "https://localhost:8080/"
        },
        "outputId": "3591f0c0-2351-4954-a19a-5746aa364584"
      },
      "execution_count": null,
      "outputs": [
        {
          "output_type": "stream",
          "name": "stdout",
          "text": [
            "Insira o preço da TV: 1299.32\n",
            "Insira o preço da TV: 456.36\n",
            "Insira o preço da TV: 999.65\n",
            "Insira o preço da TV: 6500.47\n",
            "A média de preço das TVs é R$3899.89\n"
          ]
        }
      ]
    },
    {
      "cell_type": "markdown",
      "source": [
        "###14. Faça um programa que calcule e apresente as tabuadas do 3 ao 7. Este exercício utiliza DUAS estruturas de repetição."
      ],
      "metadata": {
        "id": "wJ0MVHDlQrNb"
      }
    },
    {
      "cell_type": "code",
      "metadata": {
        "id": "QRC-wB1g-ceV",
        "colab": {
          "base_uri": "https://localhost:8080/"
        },
        "outputId": "594c87ee-1036-4413-f1d8-2c634b504958"
      },
      "source": [
        "for tabuada in range(3,8):\n",
        "    for cont in range(1,11):\n",
        "        print(tabuada, \"x\", cont,\" = \",tabuada * cont)"
      ],
      "execution_count": null,
      "outputs": [
        {
          "output_type": "stream",
          "name": "stdout",
          "text": [
            "3 x 1  =  3\n",
            "3 x 2  =  6\n",
            "3 x 3  =  9\n",
            "3 x 4  =  12\n",
            "3 x 5  =  15\n",
            "3 x 6  =  18\n",
            "3 x 7  =  21\n",
            "3 x 8  =  24\n",
            "3 x 9  =  27\n",
            "3 x 10  =  30\n",
            "4 x 1  =  4\n",
            "4 x 2  =  8\n",
            "4 x 3  =  12\n",
            "4 x 4  =  16\n",
            "4 x 5  =  20\n",
            "4 x 6  =  24\n",
            "4 x 7  =  28\n",
            "4 x 8  =  32\n",
            "4 x 9  =  36\n",
            "4 x 10  =  40\n",
            "5 x 1  =  5\n",
            "5 x 2  =  10\n",
            "5 x 3  =  15\n",
            "5 x 4  =  20\n",
            "5 x 5  =  25\n",
            "5 x 6  =  30\n",
            "5 x 7  =  35\n",
            "5 x 8  =  40\n",
            "5 x 9  =  45\n",
            "5 x 10  =  50\n",
            "6 x 1  =  6\n",
            "6 x 2  =  12\n",
            "6 x 3  =  18\n",
            "6 x 4  =  24\n",
            "6 x 5  =  30\n",
            "6 x 6  =  36\n",
            "6 x 7  =  42\n",
            "6 x 8  =  48\n",
            "6 x 9  =  54\n",
            "6 x 10  =  60\n",
            "7 x 1  =  7\n",
            "7 x 2  =  14\n",
            "7 x 3  =  21\n",
            "7 x 4  =  28\n",
            "7 x 5  =  35\n",
            "7 x 6  =  42\n",
            "7 x 7  =  49\n",
            "7 x 8  =  56\n",
            "7 x 9  =  63\n",
            "7 x 10  =  70\n"
          ]
        }
      ]
    },
    {
      "cell_type": "code",
      "source": [
        "tabuada = 3\n",
        "while tabuada <= 7:\n",
        "    for cont in range(1,11):\n",
        "        print(tabuada, \"x\", cont,\" = \",tabuada * cont)\n",
        "    print()\n",
        "    tabuada = tabuada + 1    "
      ],
      "metadata": {
        "colab": {
          "base_uri": "https://localhost:8080/"
        },
        "id": "Kepd7ZbkHSWF",
        "outputId": "675d197c-e45e-4f87-ba39-1981e210777b"
      },
      "execution_count": null,
      "outputs": [
        {
          "output_type": "stream",
          "name": "stdout",
          "text": [
            "3 x 1  =  3\n",
            "3 x 2  =  6\n",
            "3 x 3  =  9\n",
            "3 x 4  =  12\n",
            "3 x 5  =  15\n",
            "3 x 6  =  18\n",
            "3 x 7  =  21\n",
            "3 x 8  =  24\n",
            "3 x 9  =  27\n",
            "3 x 10  =  30\n",
            "\n",
            "4 x 1  =  4\n",
            "4 x 2  =  8\n",
            "4 x 3  =  12\n",
            "4 x 4  =  16\n",
            "4 x 5  =  20\n",
            "4 x 6  =  24\n",
            "4 x 7  =  28\n",
            "4 x 8  =  32\n",
            "4 x 9  =  36\n",
            "4 x 10  =  40\n",
            "\n",
            "5 x 1  =  5\n",
            "5 x 2  =  10\n",
            "5 x 3  =  15\n",
            "5 x 4  =  20\n",
            "5 x 5  =  25\n",
            "5 x 6  =  30\n",
            "5 x 7  =  35\n",
            "5 x 8  =  40\n",
            "5 x 9  =  45\n",
            "5 x 10  =  50\n",
            "\n",
            "6 x 1  =  6\n",
            "6 x 2  =  12\n",
            "6 x 3  =  18\n",
            "6 x 4  =  24\n",
            "6 x 5  =  30\n",
            "6 x 6  =  36\n",
            "6 x 7  =  42\n",
            "6 x 8  =  48\n",
            "6 x 9  =  54\n",
            "6 x 10  =  60\n",
            "\n",
            "7 x 1  =  7\n",
            "7 x 2  =  14\n",
            "7 x 3  =  21\n",
            "7 x 4  =  28\n",
            "7 x 5  =  35\n",
            "7 x 6  =  42\n",
            "7 x 7  =  49\n",
            "7 x 8  =  56\n",
            "7 x 9  =  63\n",
            "7 x 10  =  70\n",
            "\n"
          ]
        }
      ]
    },
    {
      "cell_type": "markdown",
      "source": [
        "###15. Faça um programa para o curso de ADS (6 módulos), cada sala tem 30 alunos, calcule e apresente os seguintes itens:\n",
        "*  Quantidade de homens e mulheres de cada módulo;\n",
        "*  Média de idades de cada módulo;\n",
        "*  Quantidade de homens e mulheres do curso todo;\n",
        "*  Média de idades do curso todo.\n",
        "\n",
        "Observação: este exercício utiliza DUAS estruturas de repetição."
      ],
      "metadata": {
        "id": "wu3gKhw_P-t2"
      }
    },
    {
      "cell_type": "code",
      "source": [
        "soma_m = 0\n",
        "soma_f = 0\n",
        "soma_i = 0\n",
        "total_soma = 0\n",
        "total_media = 0\n",
        "\n",
        "for modulo in range(1,7):\n",
        "    masculino = 0\n",
        "    feminino = 0\n",
        "    ind = 0\n",
        "    soma_idade = 0\n",
        "    print(modulo,\"módulo de ADS.\")\n",
        "    for alunos in range(2):\n",
        "        genero = input(\"Insira o genero M/F: \")\n",
        "        idade = int(input(\"Insira a idade: \"))\n",
        "        if genero == \"M\" or genero == \"m\":\n",
        "            masculino = masculino + 1\n",
        "            soma_m = soma_m + 1\n",
        "                \n",
        "        elif genero == \"F\" or genero == \"f\":\n",
        "            feminino = feminino + 1\n",
        "            soma_f = soma_f + 1\n",
        "\n",
        "        else:\n",
        "            ind = ind + 1\n",
        "            soma_i = soma_i + 1\n",
        "        soma_idade = soma_idade + idade\n",
        "        media_idade = soma_idade / 2\n",
        "        total_media = total_media + media_idade\n",
        "        total_soma = total_soma + idade\n",
        "media_total = total_media / 6\n",
        "print(\"A média de idade do\",modulo,f\"módulo é de {media_idade:.2f}\")\n",
        "print(\"No módulo de ADS há\", masculino,\"homem(s),\", feminino,\"mulher(es) e\", ind, \"pessoa(s) com gênero indefinido.\")\n",
        "print(\"No curso de ADS tem um total de\", soma_m,\"homem(s)\", soma_f,\"mulher(es)\", ind,\"pessoa(s) com gênero indefinido.\")\n",
        "print(f\"A média de idade do curso de ADS é de {media_total:.2f}\")  "
      ],
      "metadata": {
        "id": "lBhG5qbYQJaS",
        "colab": {
          "base_uri": "https://localhost:8080/"
        },
        "outputId": "6a5a659e-12b7-4828-c51f-94d9db359ab9"
      },
      "execution_count": null,
      "outputs": [
        {
          "output_type": "stream",
          "name": "stdout",
          "text": [
            "1 módulo de ADS.\n",
            "Insira o genero M/F: m\n",
            "Insira a idade: 25\n",
            "Insira o genero M/F: f\n",
            "Insira a idade: 23\n",
            "2 módulo de ADS.\n",
            "Insira o genero M/F: f\n",
            "Insira a idade: 36\n",
            "Insira o genero M/F: f\n",
            "Insira a idade: 17\n",
            "3 módulo de ADS.\n",
            "Insira o genero M/F: m\n",
            "Insira a idade: 22\n",
            "Insira o genero M/F: m\n",
            "Insira a idade: 21\n",
            "4 módulo de ADS.\n",
            "Insira o genero M/F: f\n",
            "Insira a idade: 18\n",
            "Insira o genero M/F: f\n",
            "Insira a idade: 19\n",
            "5 módulo de ADS.\n",
            "Insira o genero M/F: m\n",
            "Insira a idade: 25\n",
            "Insira o genero M/F: m\n",
            "Insira a idade: 24\n",
            "6 módulo de ADS.\n",
            "Insira o genero M/F: m\n",
            "Insira a idade: 28\n",
            "Insira o genero M/F: f\n",
            "Insira a idade: 29\n",
            "A média de idade do módulo 6 é de 28.50\n",
            "No módulo de ADS há 1 homem(s), 1 mulher(es) e 0 pessoa(s) com gênero indefinido.\n",
            "No curso de ADS tem um total de 6 homem(s) 6 mulher(es) 0 pessoa(s) com gênero indefinido.\n",
            "A média de idade do curso de ADS é de 36.75\n"
          ]
        }
      ]
    }
  ]
}